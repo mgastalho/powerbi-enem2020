{
    "metadata": {
        "kernelspec": {
            "name": "SQL",
            "display_name": "SQL",
            "language": "sql"
        },
        "language_info": {
            "name": "sql",
            "version": ""
        },
        "extensions": {
            "azuredatastudio": {
                "version": 1,
                "views": []
            }
        }
    },
    "nbformat_minor": 2,
    "nbformat": 4,
    "cells": [
        {
            "cell_type": "markdown",
            "source": [
                "SITUAÇÂO:  Carregar os dados do ENEM que estão em CSV para uma base SQL server e criar relatórios no power bi sobre eles\n",
                "\n",
                "Link para o CSV [https://download.inep.gov.br/microdados/microdados\\_enem\\_2020.zip](https://download.inep.gov.br/microdados/microdados_enem_2020.zip)"
            ],
            "metadata": {
                "azdata_cell_guid": "64c7ee09-1300-47d4-b302-31b8881ba921"
            },
            "attachments": {}
        },
        {
            "cell_type": "code",
            "source": [
                "IF NOT EXISTS \r\n",
                "(SELECT name FROM SYSDATABASES WHERE name='STG_ENEM')\r\n",
                "CREATE DATABASE STG_ENEM"
            ],
            "metadata": {
                "azdata_cell_guid": "1538acda-c9b5-498b-9699-4562dbb495a7"
            },
            "outputs": [
                {
                    "output_type": "display_data",
                    "data": {
                        "text/html": "Commands completed successfully."
                    },
                    "metadata": {}
                },
                {
                    "output_type": "display_data",
                    "data": {
                        "text/html": "Total execution time: 00:00:00.009"
                    },
                    "metadata": {}
                }
            ],
            "execution_count": 4
        },
        {
            "cell_type": "code",
            "source": [
                "USE STG_ENEM\r\n",
                "GO"
            ],
            "metadata": {
                "azdata_cell_guid": "6b584f06-7eb1-4495-98c4-c8510c7430db",
                "tags": [
                    "hide_input"
                ]
            },
            "outputs": [
                {
                    "output_type": "display_data",
                    "data": {
                        "text/html": "Commands completed successfully."
                    },
                    "metadata": {}
                },
                {
                    "output_type": "display_data",
                    "data": {
                        "text/html": "Total execution time: 00:00:00.001"
                    },
                    "metadata": {}
                }
            ],
            "execution_count": 7
        },
        {
            "cell_type": "code",
            "source": [
                "SELECT * FROM STG_ENEM.dbo.MICRODADOS_ENEM_2020\r\n",
                "GO"
            ],
            "metadata": {
                "azdata_cell_guid": "676ca6bc-03bb-4dc0-b1b7-08c238d2e2d6",
                "tags": [
                    "hide_input"
                ]
            },
            "outputs": [],
            "execution_count": null
        },
        {
            "cell_type": "markdown",
            "source": [
                "**CRIAR TABELA DE LOG**"
            ],
            "metadata": {
                "azdata_cell_guid": "d43d601a-3582-4dec-aaea-0d84dd1711b5"
            },
            "attachments": {}
        },
        {
            "cell_type": "code",
            "source": [
                "IF NOT EXISTS\r\n",
                "  (SELECT * FROM sysobjects WHERE name='LOG_CARGAS_TABELAS' AND xtype='U')\r\n",
                "CREATE TABLE [dbo].[LOG_CARGAS_TABELAS](\r\n",
                "\t[ID] [int] IDENTITY(1,1) NOT NULL,\r\n",
                "\t[NUMERO_ERRO] [int] NULL,\r\n",
                "\t[SERVERIDADE_ERRO] [int] NULL,\r\n",
                "\t[ESTADO_ERRO] [int] NULL,\r\n",
                "\t[PROC_ERRO] [nvarchar](255) NULL,\r\n",
                "\t[LINHA_ERRO] [int] NULL,\r\n",
                "\t[MSG_ERRO] [nvarchar](255) NULL,\r\n",
                "\t[SITUACAO] [nvarchar](10) NULL,\r\n",
                "\t[PROCESSO] [nvarchar](30) NULL,\r\n",
                "\t[DATA_INI] [datetime] NULL,\r\n",
                "\t[DATA_FIM] [datetime] NULL,\r\n",
                "\t[LINHAS_AFETADAS] [int] NULL,\r\n",
                "\t[ACAO] [nvarchar](10) NULL,\r\n",
                "\t[DESTINO] [varchar](30) NULL,\r\n",
                "PRIMARY KEY CLUSTERED \r\n",
                "(\r\n",
                "\t[ID] ASC\r\n",
                ")WITH (PAD_INDEX = OFF, STATISTICS_NORECOMPUTE = OFF, IGNORE_DUP_KEY = OFF, ALLOW_ROW_LOCKS = ON, ALLOW_PAGE_LOCKS = ON, OPTIMIZE_FOR_SEQUENTIAL_KEY = OFF) ON [PRIMARY]\r\n",
                ") ON [PRIMARY]\r\n",
                "GO"
            ],
            "metadata": {
                "azdata_cell_guid": "f20887c6-a8a6-4bca-bd56-7ad1420bce1f",
                "tags": []
            },
            "outputs": [
                {
                    "output_type": "display_data",
                    "data": {
                        "text/html": "Commands completed successfully."
                    },
                    "metadata": {}
                },
                {
                    "output_type": "display_data",
                    "data": {
                        "text/html": "Total execution time: 00:00:00.020"
                    },
                    "metadata": {}
                }
            ],
            "execution_count": 8
        },
        {
            "cell_type": "markdown",
            "source": [
                "**CRIANDO AS DIMENSÕES**"
            ],
            "metadata": {
                "azdata_cell_guid": "d7538c6c-2dc6-444f-91bb-825040734b85"
            },
            "attachments": {}
        },
        {
            "cell_type": "markdown",
            "source": [
                "![](attachment:image.png)"
            ],
            "metadata": {
                "azdata_cell_guid": "39f9531f-bdb9-4b9b-b542-2577e148fa85"
            },
            "attachments": {
                "image.png": {
                    "image/png": "[encoded data removed]"
                }
            }
        },
        {
            "cell_type": "code",
            "source": [
                "USE STG_ENEM\r\n",
                "GO\r\n",
                "IF NOT EXISTS\r\n",
                "  (SELECT * FROM sysobjects WHERE name='D_GENERO' AND xtype='U')\r\n",
                "CREATE TABLE [dbo].[D_GENERO](\r\n",
                "\tSK_GENERO [int] IDENTITY(1,1) NOT NULL,\r\n",
                "\tTP_GENERO [char](1) NOT NULL,\r\n",
                "\tDS_GENERO [varchar] (10) NOT NULL,\r\n",
                "PRIMARY KEY CLUSTERED \r\n",
                "(\r\n",
                "\tSK_GENERO ASC\r\n",
                ")WITH (PAD_INDEX = OFF, STATISTICS_NORECOMPUTE = OFF, IGNORE_DUP_KEY = OFF, ALLOW_ROW_LOCKS = ON, ALLOW_PAGE_LOCKS = ON, OPTIMIZE_FOR_SEQUENTIAL_KEY = OFF) ON [PRIMARY]\r\n",
                ") ON [PRIMARY]\r\n",
                "GO"
            ],
            "metadata": {
                "azdata_cell_guid": "e765c25c-1f70-4a22-9504-1ea3beaf3f5c",
                "tags": []
            },
            "outputs": [
                {
                    "output_type": "display_data",
                    "data": {
                        "text/html": "Commands completed successfully."
                    },
                    "metadata": {}
                },
                {
                    "output_type": "display_data",
                    "data": {
                        "text/html": "Commands completed successfully."
                    },
                    "metadata": {}
                },
                {
                    "output_type": "display_data",
                    "data": {
                        "text/html": "Total execution time: 00:00:00.007"
                    },
                    "metadata": {}
                }
            ],
            "execution_count": 9
        },
        {
            "cell_type": "markdown",
            "source": [
                "![](attachment:image.png)"
            ],
            "metadata": {
                "azdata_cell_guid": "6dd99fd3-5a06-4953-97e1-34e5c81ed747"
            },
            "attachments": {
                "image.png": {
                    "image/png": "[encoded data removed]"
                }
            }
        },
        {
            "cell_type": "code",
            "source": [
                "IF NOT EXISTS\r\n",
                "  (SELECT * FROM sysobjects WHERE name='D_FAIXA_ETARIA' AND xtype='U')\r\n",
                "CREATE TABLE [dbo].[D_FAIXA_ETARIA](\r\n",
                "\tSK_FAIXA [int] IDENTITY(1,1) NOT NULL,\r\n",
                "\tTP_FAIXA [int] NOT NULL,\r\n",
                "\tDS_FAIXA [varchar] (30) NOT NULL,\r\n",
                "PRIMARY KEY CLUSTERED \r\n",
                "(\r\n",
                "\tSK_FAIXA ASC\r\n",
                ")WITH (PAD_INDEX = OFF, STATISTICS_NORECOMPUTE = OFF, IGNORE_DUP_KEY = OFF, ALLOW_ROW_LOCKS = ON, ALLOW_PAGE_LOCKS = ON, OPTIMIZE_FOR_SEQUENTIAL_KEY = OFF) ON [PRIMARY]\r\n",
                ") ON [PRIMARY]\r\n",
                "GO"
            ],
            "metadata": {
                "azdata_cell_guid": "7df1ae42-a902-468f-a8e5-b728a3c706f5",
                "tags": []
            },
            "outputs": [
                {
                    "output_type": "display_data",
                    "data": {
                        "text/html": "Commands completed successfully."
                    },
                    "metadata": {}
                },
                {
                    "output_type": "display_data",
                    "data": {
                        "text/html": "Total execution time: 00:00:00.012"
                    },
                    "metadata": {}
                }
            ],
            "execution_count": 14
        },
        {
            "cell_type": "markdown",
            "source": [
                "![](attachment:image.png)"
            ],
            "metadata": {
                "azdata_cell_guid": "80d91023-805e-4653-8c83-8435a25e8e2d"
            },
            "attachments": {
                "image.png": {
                    "image/png": "[encoded data removed]"
                }
            }
        },
        {
            "cell_type": "code",
            "source": [
                "IF NOT EXISTS\r\n",
                "  (SELECT * FROM sysobjects WHERE name='D_ESTADO_CIVIL' AND xtype='U')\r\n",
                "CREATE TABLE [dbo].[D_ESTADO_CIVIL](\r\n",
                "\tSK_ESTADO_CIVIL [int] IDENTITY(1,1) NOT NULL,\r\n",
                "\tTP_ESTADO_CIVIL [int] NOT NULL,\r\n",
                "\tDS_ESTADO_CIVIL [varchar] (50) NOT NULL,\r\n",
                "PRIMARY KEY CLUSTERED \r\n",
                "(\r\n",
                "\tSK_ESTADO_CIVIL ASC\r\n",
                ")WITH (PAD_INDEX = OFF, STATISTICS_NORECOMPUTE = OFF, IGNORE_DUP_KEY = OFF, ALLOW_ROW_LOCKS = ON, ALLOW_PAGE_LOCKS = ON, OPTIMIZE_FOR_SEQUENTIAL_KEY = OFF) ON [PRIMARY]\r\n",
                ") ON [PRIMARY]\r\n",
                "GO"
            ],
            "metadata": {
                "azdata_cell_guid": "f111e27e-ce8b-40fb-8e73-c5b5e51d0fdd",
                "tags": []
            },
            "outputs": [
                {
                    "output_type": "display_data",
                    "data": {
                        "text/html": "Commands completed successfully."
                    },
                    "metadata": {}
                },
                {
                    "output_type": "display_data",
                    "data": {
                        "text/html": "Total execution time: 00:00:00.017"
                    },
                    "metadata": {}
                }
            ],
            "execution_count": 17
        },
        {
            "cell_type": "markdown",
            "source": [
                "![](attachment:image.png)"
            ],
            "metadata": {
                "azdata_cell_guid": "6ffb6e3a-804c-483c-8667-98b488887aec"
            },
            "attachments": {
                "image.png": {
                    "image/png": "[encoded data removed]"
                }
            }
        },
        {
            "cell_type": "code",
            "source": [
                "IF NOT EXISTS\r\n",
                "  (SELECT * FROM sysobjects WHERE name='D_COR_RACA' AND xtype='U')\r\n",
                "CREATE TABLE [dbo].[D_COR_RACA](\r\n",
                "\tSK_COR_RACA [int] IDENTITY(1,1) NOT NULL,\r\n",
                "\tTP_COR_RACA [int] NOT NULL,\r\n",
                "\tDS_COR_RACA [varchar] (50) NOT NULL,\r\n",
                "PRIMARY KEY CLUSTERED \r\n",
                "(\r\n",
                "\tSK_COR_RACA ASC\r\n",
                ")WITH (PAD_INDEX = OFF, STATISTICS_NORECOMPUTE = OFF, IGNORE_DUP_KEY = OFF, ALLOW_ROW_LOCKS = ON, ALLOW_PAGE_LOCKS = ON, OPTIMIZE_FOR_SEQUENTIAL_KEY = OFF) ON [PRIMARY]\r\n",
                ") ON [PRIMARY]\r\n",
                "GO"
            ],
            "metadata": {
                "azdata_cell_guid": "d6999b79-c011-4af7-96fd-ef2caf086fb0",
                "tags": []
            },
            "outputs": [
                {
                    "output_type": "display_data",
                    "data": {
                        "text/html": "Commands completed successfully."
                    },
                    "metadata": {}
                },
                {
                    "output_type": "display_data",
                    "data": {
                        "text/html": "Total execution time: 00:00:00.020"
                    },
                    "metadata": {}
                }
            ],
            "execution_count": 19
        },
        {
            "cell_type": "markdown",
            "source": [
                "![](attachment:image.png)"
            ],
            "metadata": {
                "azdata_cell_guid": "f79ff5fa-459e-4b20-a28b-024c24b41f5f"
            },
            "attachments": {
                "image.png": {
                    "image/png": "[encoded data removed]"
                }
            }
        },
        {
            "cell_type": "code",
            "source": [
                "IF NOT EXISTS\r\n",
                "  (SELECT * FROM sysobjects WHERE name='D_NACIONALIDADE' AND xtype='U')\r\n",
                "CREATE TABLE [dbo].[D_NACIONALIDADE](\r\n",
                "\tSK_NACIONALIDADE [int] IDENTITY(1,1) NOT NULL,\r\n",
                "\tTP_NACIONALIDADE [varchar] NOT NULL,\r\n",
                "\tDS_NACIONALIDADE [varchar] (50) NOT NULL,\r\n",
                "PRIMARY KEY CLUSTERED \r\n",
                "(\r\n",
                "\tSK_NACIONALIDADE ASC\r\n",
                ")WITH (PAD_INDEX = OFF, STATISTICS_NORECOMPUTE = OFF, IGNORE_DUP_KEY = OFF, ALLOW_ROW_LOCKS = ON, ALLOW_PAGE_LOCKS = ON, OPTIMIZE_FOR_SEQUENTIAL_KEY = OFF) ON [PRIMARY]\r\n",
                ") ON [PRIMARY]\r\n",
                "GO"
            ],
            "metadata": {
                "azdata_cell_guid": "1257e56c-9848-4208-b743-7dd2ea0c0585",
                "tags": []
            },
            "outputs": [
                {
                    "output_type": "display_data",
                    "data": {
                        "text/html": "Commands completed successfully."
                    },
                    "metadata": {}
                },
                {
                    "output_type": "display_data",
                    "data": {
                        "text/html": "Total execution time: 00:00:00.010"
                    },
                    "metadata": {}
                }
            ],
            "execution_count": 21
        },
        {
            "cell_type": "markdown",
            "source": [
                "![](attachment:image.png)"
            ],
            "metadata": {
                "azdata_cell_guid": "9c55261a-a9f1-47dc-93a1-de37e251367f"
            },
            "attachments": {
                "image.png": {
                    "image/png": "[encoded data removed]"
                }
            }
        },
        {
            "cell_type": "code",
            "source": [
                "IF EXISTS\r\n",
                "  (SELECT * FROM sysobjects WHERE name='D_SITUACAO_EM' AND xtype='U')\r\n",
                "DROP TABLE D_SITUACAO_EM  \r\n",
                "CREATE TABLE [dbo].[D_SITUACAO_EM](\r\n",
                "\tSK_SITUACAO_EM [int] IDENTITY(1,1) NOT NULL,\r\n",
                "\tST_CONCLUSAO [varchar] NOT NULL,\r\n",
                "    DS_SITUACAO [varchar] (100) NOT NULL,    \r\n",
                "PRIMARY KEY CLUSTERED \r\n",
                "(\r\n",
                "\tSK_SITUACAO_EM ASC\r\n",
                ")WITH (PAD_INDEX = OFF, STATISTICS_NORECOMPUTE = OFF, IGNORE_DUP_KEY = OFF, ALLOW_ROW_LOCKS = ON, ALLOW_PAGE_LOCKS = ON, OPTIMIZE_FOR_SEQUENTIAL_KEY = OFF) ON [PRIMARY]\r\n",
                ") ON [PRIMARY]\r\n",
                "GO"
            ],
            "metadata": {
                "azdata_cell_guid": "11765580-7ffd-443a-8d46-b2a16e1c37a4",
                "tags": []
            },
            "outputs": [
                {
                    "output_type": "display_data",
                    "data": {
                        "text/html": "Commands completed successfully."
                    },
                    "metadata": {}
                },
                {
                    "output_type": "display_data",
                    "data": {
                        "text/html": "Total execution time: 00:00:00.007"
                    },
                    "metadata": {}
                }
            ],
            "execution_count": 47
        },
        {
            "cell_type": "markdown",
            "source": [
                "![](attachment:image.png)"
            ],
            "metadata": {
                "azdata_cell_guid": "1fb881aa-129a-4e3d-a65d-53153872416c"
            },
            "attachments": {
                "image.png": {
                    "image/png": "[encoded data removed]"
                }
            }
        },
        {
            "cell_type": "code",
            "source": [
                "IF EXISTS\r\n",
                "  (SELECT * FROM sysobjects WHERE name='D_ANO_CONCLUSAO_EM' AND xtype='U')\r\n",
                "DROP TABLE D_ANO_CONCLUSAO_EM\r\n",
                "CREATE TABLE [dbo].[D_ANO_CONCLUSAO_EM](\r\n",
                "\tSK_ANO_CONCLUSAO_EM [int] IDENTITY(1,1) NOT NULL,\t\r\n",
                "    TP_ANO_CONCLUIU [varchar](5) NULL,\r\n",
                "\tNR_ANO_CONCLUSAO [varchar](50) NULL,\r\n",
                "PRIMARY KEY CLUSTERED \r\n",
                "(\r\n",
                "\tSK_ANO_CONCLUSAO_EM ASC\r\n",
                ")WITH (PAD_INDEX = OFF, STATISTICS_NORECOMPUTE = OFF, IGNORE_DUP_KEY = OFF, ALLOW_ROW_LOCKS = ON, ALLOW_PAGE_LOCKS = ON, OPTIMIZE_FOR_SEQUENTIAL_KEY = OFF) ON [PRIMARY]\r\n",
                ") ON [PRIMARY]\r\n",
                "GO"
            ],
            "metadata": {
                "azdata_cell_guid": "21dac03f-bc5c-45b9-84b1-bcd2fb41c478",
                "tags": []
            },
            "outputs": [
                {
                    "output_type": "display_data",
                    "data": {
                        "text/html": "Commands completed successfully."
                    },
                    "metadata": {}
                },
                {
                    "output_type": "display_data",
                    "data": {
                        "text/html": "Total execution time: 00:00:00.006"
                    },
                    "metadata": {}
                }
            ],
            "execution_count": 48
        },
        {
            "cell_type": "code",
            "source": [
                "IF EXISTS\r\n",
                "  (SELECT * FROM sysobjects WHERE name='D_TP_ESCOLA_EM' AND xtype='U')\r\n",
                "  DROP TABLE D_TP_ESCOLA_EM\r\n",
                "CREATE TABLE [dbo].[D_TP_ESCOLA_EM](\r\n",
                "\tSK_TP_ESCOLA_EM [int] IDENTITY(1,1) NOT NULL,\t\r\n",
                "    TP_ESCOLA [int] NULL,\r\n",
                "\tDS_ESCOLA [varchar](50) NULL,\r\n",
                "PRIMARY KEY CLUSTERED \r\n",
                "(\r\n",
                "\tSK_TP_ESCOLA_EM ASC\r\n",
                ")WITH (PAD_INDEX = OFF, STATISTICS_NORECOMPUTE = OFF, IGNORE_DUP_KEY = OFF, ALLOW_ROW_LOCKS = ON, ALLOW_PAGE_LOCKS = ON, OPTIMIZE_FOR_SEQUENTIAL_KEY = OFF) ON [PRIMARY]\r\n",
                ") ON [PRIMARY]\r\n",
                "GO"
            ],
            "metadata": {
                "azdata_cell_guid": "b9ba2c4d-258e-4e60-8e72-2118987826b7",
                "tags": []
            },
            "outputs": [
                {
                    "output_type": "display_data",
                    "data": {
                        "text/html": "Commands completed successfully."
                    },
                    "metadata": {}
                },
                {
                    "output_type": "display_data",
                    "data": {
                        "text/html": "Total execution time: 00:00:00.016"
                    },
                    "metadata": {}
                }
            ],
            "execution_count": 54
        },
        {
            "cell_type": "markdown",
            "source": [
                "![](attachment:image.png)"
            ],
            "metadata": {
                "azdata_cell_guid": "f27eef95-45ba-41ca-bec8-3349fcc10125"
            },
            "attachments": {
                "image.png": {
                    "image/png": "[encoded data removed]"
                }
            }
        },
        {
            "cell_type": "code",
            "source": [
                "IF EXISTS\r\n",
                "  (SELECT * FROM sysobjects WHERE name='D_ESCOLA' AND xtype='U')\r\n",
                "DROP TABLE D_ESCOLA\r\n",
                "CREATE TABLE [dbo].[D_ESCOLA](\r\n",
                "\tSK_ESCOLA [int] IDENTITY(1,1) NOT NULL,\r\n",
                "\tDS_UF [varchar](2) NULL,\r\n",
                "  DS_MUNICIPIO [varchar] (100) NULL,\t\r\n",
                "  TP_LOCALIZACAO [int] NULL,\r\n",
                "  DS_LOCALIZACAO [varchar](20) NULL,\r\n",
                "PRIMARY KEY CLUSTERED \r\n",
                "(\r\n",
                "\tSK_ESCOLA ASC\r\n",
                ")WITH (PAD_INDEX = OFF, STATISTICS_NORECOMPUTE = OFF, IGNORE_DUP_KEY = OFF, ALLOW_ROW_LOCKS = ON, ALLOW_PAGE_LOCKS = ON, OPTIMIZE_FOR_SEQUENTIAL_KEY = OFF) ON [PRIMARY]\r\n",
                ") ON [PRIMARY]\r\n",
                "GO"
            ],
            "metadata": {
                "azdata_cell_guid": "66b5e909-cd5c-4a73-abc5-d2dd607c7b1a",
                "tags": []
            },
            "outputs": [
                {
                    "output_type": "display_data",
                    "data": {
                        "text/html": "Commands completed successfully."
                    },
                    "metadata": {}
                },
                {
                    "output_type": "display_data",
                    "data": {
                        "text/html": "Total execution time: 00:00:00.011"
                    },
                    "metadata": {}
                }
            ],
            "execution_count": 20
        },
        {
            "cell_type": "markdown",
            "source": [
                "![](attachment:image.png)"
            ],
            "metadata": {
                "azdata_cell_guid": "d1c6eb54-c01f-45e9-82f6-ab15f74eb5aa"
            },
            "attachments": {
                "image.png": {
                    "image/png": "[encoded data removed]"
                }
            }
        },
        {
            "cell_type": "code",
            "source": [
                "IF EXISTS\r\n",
                "  (SELECT * FROM sysobjects WHERE name='D_TP_ESCOLA' AND xtype='U')\r\n",
                "DROP TABLE D_TP_ESCOLA\r\n",
                "CREATE TABLE [dbo].[D_TP_ESCOLA](\r\n",
                "\tSK_TP_ESCOLA [int] IDENTITY(1,1) NOT NULL,\t\r\n",
                "\tTP_DEPENDENCIA [int] NULL,\r\n",
                "    DS_DEPENDENCIA [varchar] (10) NULL,  \r\n",
                "PRIMARY KEY CLUSTERED \r\n",
                "(\r\n",
                "\tSK_TP_ESCOLA ASC\r\n",
                ")WITH (PAD_INDEX = OFF, STATISTICS_NORECOMPUTE = OFF, IGNORE_DUP_KEY = OFF, ALLOW_ROW_LOCKS = ON, ALLOW_PAGE_LOCKS = ON, OPTIMIZE_FOR_SEQUENTIAL_KEY = OFF) ON [PRIMARY]\r\n",
                ") ON [PRIMARY]\r\n",
                "GO"
            ],
            "metadata": {
                "azdata_cell_guid": "08cd6473-bdcc-483b-a5ab-0d1ec148b2d2",
                "tags": []
            },
            "outputs": [
                {
                    "output_type": "display_data",
                    "data": {
                        "text/html": "Commands completed successfully."
                    },
                    "metadata": {}
                },
                {
                    "output_type": "display_data",
                    "data": {
                        "text/html": "Total execution time: 00:00:00.051"
                    },
                    "metadata": {}
                }
            ],
            "execution_count": 16
        },
        {
            "cell_type": "markdown",
            "source": [
                "![](attachment:image.png)"
            ],
            "metadata": {
                "azdata_cell_guid": "55cfa08e-9f4e-470e-851a-750310eebb0a"
            },
            "attachments": {
                "image.png": {
                    "image/png": "[encoded data removed]"
                }
            }
        },
        {
            "cell_type": "code",
            "source": [
                "IF EXISTS\r\n",
                "  (SELECT * FROM sysobjects WHERE name='D_REDACAO' AND xtype='U')\r\n",
                "  DROP TABLE D_REDACAO\r\n",
                "CREATE TABLE [dbo].[D_REDACAO](\r\n",
                "\tSK_REDACAO [int] IDENTITY(1,1) NOT NULL,\r\n",
                "\tST_REDACAO [int] NULL,\r\n",
                "    DS_SITUACAO [varchar] (50) NULL,\r\n",
                "PRIMARY KEY CLUSTERED \r\n",
                "(\r\n",
                "\tSK_REDACAO ASC\r\n",
                ")WITH (PAD_INDEX = OFF, STATISTICS_NORECOMPUTE = OFF, IGNORE_DUP_KEY = OFF, ALLOW_ROW_LOCKS = ON, ALLOW_PAGE_LOCKS = ON, OPTIMIZE_FOR_SEQUENTIAL_KEY = OFF) ON [PRIMARY]\r\n",
                ") ON [PRIMARY]\r\n",
                "GO"
            ],
            "metadata": {
                "azdata_cell_guid": "3a40fc3e-1d0b-41bf-9761-da80ab7cd70c",
                "tags": []
            },
            "outputs": [
                {
                    "output_type": "display_data",
                    "data": {
                        "text/html": "Commands completed successfully."
                    },
                    "metadata": {}
                },
                {
                    "output_type": "display_data",
                    "data": {
                        "text/html": "Total execution time: 00:00:00.007"
                    },
                    "metadata": {}
                }
            ],
            "execution_count": 60
        },
        {
            "cell_type": "markdown",
            "source": [
                "![](attachment:image.png)"
            ],
            "metadata": {
                "azdata_cell_guid": "e4aef620-3f77-4046-863a-58ad2da00f12"
            },
            "attachments": {
                "image.png": {
                    "image/png": "[encoded data removed]"
                }
            }
        },
        {
            "cell_type": "code",
            "source": [
                "IF EXISTS\r\n",
                "  (SELECT * FROM sysobjects WHERE name='D_RESPONSAVEL_ESTUDO' AND xtype='U')\r\n",
                "  DROP TABLE D_RESPONSAVEL_ESTUDO\r\n",
                "CREATE TABLE [dbo].[D_RESPONSAVEL_ESTUDO](\r\n",
                "\tSK_RESPONSAVEL_ESTUDO [int] IDENTITY(1,1) NOT NULL,\r\n",
                "\tTP_RESPONSAVEL_ESTUDO [varchar] NULL,\r\n",
                "    DS_RESPONSAVEL [varchar] (100) NULL,\r\n",
                "PRIMARY KEY CLUSTERED \r\n",
                "(\r\n",
                "\tSK_RESPONSAVEL_ESTUDO ASC\r\n",
                ")WITH (PAD_INDEX = OFF, STATISTICS_NORECOMPUTE = OFF, IGNORE_DUP_KEY = OFF, ALLOW_ROW_LOCKS = ON, ALLOW_PAGE_LOCKS = ON, OPTIMIZE_FOR_SEQUENTIAL_KEY = OFF) ON [PRIMARY]\r\n",
                ") ON [PRIMARY]\r\n",
                "GO"
            ],
            "metadata": {
                "azdata_cell_guid": "5d80293a-d996-4f08-9350-f676a7ce29d0",
                "tags": []
            },
            "outputs": [
                {
                    "output_type": "display_data",
                    "data": {
                        "text/html": "Commands completed successfully."
                    },
                    "metadata": {}
                },
                {
                    "output_type": "display_data",
                    "data": {
                        "text/html": "Total execution time: 00:00:00.014"
                    },
                    "metadata": {}
                }
            ],
            "execution_count": 63
        },
        {
            "cell_type": "markdown",
            "source": [
                "![](attachment:image.png)"
            ],
            "metadata": {
                "azdata_cell_guid": "6bb5a3be-014b-40b8-88da-c27b8957d701"
            },
            "attachments": {
                "image.png": {
                    "image/png": "[encoded data removed]"
                }
            }
        },
        {
            "cell_type": "code",
            "source": [
                "IF EXISTS\r\n",
                "  (SELECT * FROM sysobjects WHERE name='D_RESPONSAVEL_GRUPO' AND xtype='U')\r\n",
                "  DROP TABLE D_RESPONSAVEL_GRUPO\r\n",
                "CREATE TABLE [dbo].[D_RESPONSAVEL_GRUPO](\r\n",
                "\tSK_RESPONSAVEL_GRUPO [int] IDENTITY(1,1) NOT NULL,\r\n",
                "\tTP_RESPONSAVEL_GRUPO [char](1) NULL,\r\n",
                "    DS_RESPONSAVEL_GRUPO [varchar] (500) NULL,\r\n",
                "PRIMARY KEY CLUSTERED \r\n",
                "(\r\n",
                "\tSK_RESPONSAVEL_GRUPO ASC\r\n",
                ")WITH (PAD_INDEX = OFF, STATISTICS_NORECOMPUTE = OFF, IGNORE_DUP_KEY = OFF, ALLOW_ROW_LOCKS = ON, ALLOW_PAGE_LOCKS = ON, OPTIMIZE_FOR_SEQUENTIAL_KEY = OFF) ON [PRIMARY]\r\n",
                ") ON [PRIMARY]\r\n",
                "GO"
            ],
            "metadata": {
                "azdata_cell_guid": "20bfb2a4-7d55-4975-8545-a5cc6a3fc1c8",
                "tags": []
            },
            "outputs": [
                {
                    "output_type": "display_data",
                    "data": {
                        "text/html": "Commands completed successfully."
                    },
                    "metadata": {}
                },
                {
                    "output_type": "display_data",
                    "data": {
                        "text/html": "Total execution time: 00:00:00.005"
                    },
                    "metadata": {}
                }
            ],
            "execution_count": 72
        },
        {
            "cell_type": "markdown",
            "source": [
                "![](attachment:image.png)"
            ],
            "metadata": {
                "azdata_cell_guid": "e808508e-9bca-494b-aba8-a8bac5a3a4e9"
            },
            "attachments": {
                "image.png": {
                    "image/png": "[encoded data removed]"
                }
            }
        },
        {
            "cell_type": "code",
            "source": [
                "IF EXISTS\r\n",
                "  (SELECT * FROM sysobjects WHERE name='D_RENDA_MENSAL' AND xtype='U')\r\n",
                "  DROP TABLE D_RENDA_MENSAL\r\n",
                "CREATE TABLE [dbo].[D_RENDA_MENSAL](\r\n",
                "\tSK_RENDA_MENSAL [int] IDENTITY(1,1) NOT NULL,\r\n",
                "\tTP_RENDA_MENSAL [char](1) NULL,\r\n",
                "    DS_RENDA_MENSAL [varchar] (200) NULL,\r\n",
                "PRIMARY KEY CLUSTERED \r\n",
                "(\r\n",
                "\tSK_RENDA_MENSAL ASC\r\n",
                ")WITH (PAD_INDEX = OFF, STATISTICS_NORECOMPUTE = OFF, IGNORE_DUP_KEY = OFF, ALLOW_ROW_LOCKS = ON, ALLOW_PAGE_LOCKS = ON, OPTIMIZE_FOR_SEQUENTIAL_KEY = OFF) ON [PRIMARY]\r\n",
                ") ON [PRIMARY]\r\n",
                "GO"
            ],
            "metadata": {
                "azdata_cell_guid": "a0363196-d88c-4b11-ab51-eea70c349cc0",
                "tags": []
            },
            "outputs": [
                {
                    "output_type": "display_data",
                    "data": {
                        "text/html": "Commands completed successfully."
                    },
                    "metadata": {}
                },
                {
                    "output_type": "display_data",
                    "data": {
                        "text/html": "Total execution time: 00:00:00.009"
                    },
                    "metadata": {}
                }
            ],
            "execution_count": 76
        },
        {
            "cell_type": "code",
            "source": [
                "USE STG_ENEM\r\n",
                "GO\r\n",
                "IF EXISTS\r\n",
                "  (SELECT * FROM sysobjects WHERE name='F_ENEM' AND xtype='U')\r\n",
                "  DROP TABLE F_ENEM\r\n",
                "CREATE TABLE [dbo].[F_ENEM](\r\n",
                "\tSK_ENEM [int] IDENTITY(1,1) NOT NULL,\r\n",
                "\tNU_INSCRICAO [varchar](12) NOT NULL,\r\n",
                "    TP_FAIXA_ETARIA [varchar](5) NULL,\r\n",
                "    TP_SEXO [varchar](5) NULL,\r\n",
                "    TP_ESTADO_CIVIL [varchar](5) NULL,\r\n",
                "    TP_COR_RACA [varchar](5) NULL,\r\n",
                "    TP_NACIONALIDADE [varchar](5) NULL,\r\n",
                "    TP_ST_CONCLUSAO [varchar](5) NULL,\r\n",
                "    TP_ANO_CONCLUIU [varchar](5) NULL,\r\n",
                "    TP_ESCOLA [varchar](5) NULL,\r\n",
                "    SG_UF_ESC [varchar] (2) NULL,\r\n",
                "    NO_MUNICIPIO_ESC [varchar](100) NULL,\r\n",
                "    TP_LOCALIZACAO [varchar](5) NULL,\r\n",
                "    TP_STATUS_REDACAO [varchar] (5)NULL,\r\n",
                "    NU_NOTA_REDACAO [numeric](9) NULL,\r\n",
                "    RESPONSAVEL_PAI [varchar] (5)NULL,\r\n",
                "    RESPONSAVEL_MAE [varchar] (5)NULL,\r\n",
                "    RESPONSAVEL_PAI_GRUPO [varchar](5) NULL,\r\n",
                "    RESPONSAVEL_MAE_GRUPO [varchar](5) NULL,\r\n",
                "    RENDA_MENSAL[varchar](100),\r\n",
                "    TP_PRESENCA [varchar](20) NULL,\r\n",
                "    NU_NOTA_MT [numeric](9) NULL,\r\n",
                "    NU_NOTA_CN [numeric](9) NULL,\r\n",
                "    NU_NOTA_LC [numeric](9) NULL,\r\n",
                "    NU_NOTA_CH [numeric](9) NULL,\r\n",
                "    IN_TREINEIRO [varchar] (5) NULL,\r\n",
                "    TP_DEPENDENCIA[varchar](5) NULL,\r\n",
                "    TP_PRESENCA_CN[varchar](20) NULL,\r\n",
                "    TP_PRESENCA_CH[varchar](20) NULL,\r\n",
                "    TP_PRESENCA_LC[varchar](20) NULL,\r\n",
                "    TP_PRESENCA_MT[varchar](20) NULL,\r\n",
                "PRIMARY KEY CLUSTERED \r\n",
                "(\r\n",
                "\tSK_ENEM ASC\r\n",
                ")WITH (PAD_INDEX = OFF, STATISTICS_NORECOMPUTE = OFF, IGNORE_DUP_KEY = OFF, ALLOW_ROW_LOCKS = ON, ALLOW_PAGE_LOCKS = ON, OPTIMIZE_FOR_SEQUENTIAL_KEY = OFF) ON [PRIMARY]\r\n",
                ") ON [PRIMARY]\r\n",
                "GO"
            ],
            "metadata": {
                "azdata_cell_guid": "85642e93-db19-4a79-aeee-05235b958d3f",
                "tags": []
            },
            "outputs": [
                {
                    "output_type": "display_data",
                    "data": {
                        "text/html": "Commands completed successfully."
                    },
                    "metadata": {}
                },
                {
                    "output_type": "display_data",
                    "data": {
                        "text/html": "Commands completed successfully."
                    },
                    "metadata": {}
                },
                {
                    "output_type": "display_data",
                    "data": {
                        "text/html": "Total execution time: 00:00:00.014"
                    },
                    "metadata": {}
                }
            ],
            "execution_count": 14
        },
        {
            "cell_type": "markdown",
            "source": [
                "**INICIO DAS CARGAS**"
            ],
            "metadata": {
                "azdata_cell_guid": "5e6347dd-4266-4da1-bc7b-7c3b43af3603"
            },
            "attachments": {}
        },
        {
            "cell_type": "markdown",
            "source": [
                "CRIAR PROCEDURE DE LOG"
            ],
            "metadata": {
                "azdata_cell_guid": "de756fee-f023-4ba9-a348-568e6e923b9b"
            },
            "attachments": {}
        },
        {
            "cell_type": "code",
            "source": [
                "CREATE PROCEDURE PRC_lOG_DW \r\n",
                "    @vNUMERO_ERRO int ,\r\n",
                "\t@vSERVERIDADE_ERRO int ,\r\n",
                "\t@vESTADO_ERRO int ,\r\n",
                "\t@vPROC_ERRO nvarchar(255) ,\r\n",
                "\t@vLINHA_ERRO int ,\r\n",
                "\t@vMSG_ERRO nvarchar(255) ,\r\n",
                "\t@vSITUACAO nvarchar(10) ,\r\n",
                "\t@vPROCESSO nvarchar(30) ,\r\n",
                "\t@vDATA_INI datetime ,\r\n",
                "\t@vDATA_FIM datetime ,\r\n",
                "\t@vLINHAS_AFETADAS int,\r\n",
                "\t@vACAO nvarchar(10),\r\n",
                "\t@vDESTINO varchar(30) \r\n",
                "\r\n",
                "AS\r\n",
                "\r\n",
                "INSERT INTO [dbo].[LOG_CARGAS_TABELAS]\r\n",
                "           \t\t([NUMERO_ERRO],\r\n",
                "           \t\t[SERVERIDADE_ERRO],\r\n",
                "         \t  \t[ESTADO_ERRO],\r\n",
                "          \t \t[PROC_ERRO],\r\n",
                "           \t\t[LINHA_ERRO],\r\n",
                "           \t\t[MSG_ERRO],\r\n",
                "           \t\t[SITUACAO],\r\n",
                "          \t \t[PROCESSO],\r\n",
                "           \t\t[DATA_INI],\r\n",
                "\t\t        [DATA_FIM],\r\n",
                "\t\t        LINHAS_AFETADAS,\r\n",
                "\t\t        ACAO,\r\n",
                "\t\t        DESTINO\r\n",
                "\t\t)\r\n",
                "     \t\tVALUES\r\n",
                "       \t\t (  @vNUMERO_ERRO,\r\n",
                "                @vSERVERIDADE_ERRO,\r\n",
                "                @vESTADO_ERRO,\r\n",
                "                @vPROC_ERRO,\r\n",
                "                @vLINHA_ERRO,\r\n",
                "                @vMSG_ERRO,\r\n",
                "                @vSITUACAO,\r\n",
                "                @vPROCESSO,\r\n",
                "                @vDATA_INI,\r\n",
                "                @vDATA_FIM,\r\n",
                "                @vLINHAS_AFETADAS,\r\n",
                "                @vACAO,\r\n",
                "                @vDESTINO\r\n",
                "\t\t)"
            ],
            "metadata": {
                "azdata_cell_guid": "973e8972-0fe9-4855-9fa0-e3c488396cd9",
                "tags": []
            },
            "outputs": [
                {
                    "output_type": "display_data",
                    "data": {
                        "text/html": "Commands completed successfully."
                    },
                    "metadata": {}
                },
                {
                    "output_type": "display_data",
                    "data": {
                        "text/html": "Total execution time: 00:00:00.010"
                    },
                    "metadata": {}
                }
            ],
            "execution_count": 10
        },
        {
            "cell_type": "markdown",
            "source": [
                "CARGA DIMENSAO GENERO"
            ],
            "metadata": {
                "azdata_cell_guid": "763665db-2049-4652-b78f-c597e2aa6004"
            },
            "attachments": {}
        },
        {
            "cell_type": "code",
            "source": [
                "BEGIN TRANSACTION;  \r\n",
                "   \tDECLARE @vNUMERO_ERRO int ;\r\n",
                "\tDECLARE @vSERVERIDADE_ERRO int ;\r\n",
                "\tDECLARE @vESTADO_ERRO int ;\r\n",
                "\tDECLARE @vPROC_ERRO nvarchar(255) ;\r\n",
                "\tDECLARE @vLINHA_ERRO int ;\r\n",
                "\tDECLARE @vMSG_ERRO nvarchar(255) ;\r\n",
                "\tDECLARE @vSITUACAO nvarchar(10) ;\r\n",
                "\tDECLARE @vPROCESSO nvarchar(30) ;\r\n",
                "\tDECLARE @vDATA_INI datetime ;\r\n",
                "\tDECLARE @vDATA_FIM datetime ;\r\n",
                "\tDECLARE @vLINHAS_AFTADAS int;\r\n",
                "\tDECLARE @vACAO nvarchar(10);\r\n",
                "\tDECLARE @vDESTINO varchar(30) ;\r\n",
                "\tDECLARE @ACAO NVARCHAR(10);\r\n",
                "    \r\n",
                "\tSET @VPROCESSO= 'CARGA DGENERO';\r\n",
                "\tSET @VDATA_INI= GETDATE();\r\n",
                "    \r\n",
                "    SET @vDESTINO='D_GENERO';\r\n",
                "    SET @vACAO='LOAD MERGE D_GENERO';\r\n",
                "\t\r\n",
                "BEGIN TRY  \r\n",
                "\r\n",
                "MERGE D_GENERO AS DESTINO\r\n",
                "\r\n",
                "USING (\r\n",
                "    SELECT DISTINCT TP_SEXO,\r\n",
                "    CASE \r\n",
                "        WHEN TP_SEXO = 'F' THEN 'Feminino'\r\n",
                "\t\tWHEN TP_SEXO = 'M' THEN 'Masculino'\r\n",
                "\t   ELSE 'Não informado'\r\n",
                "\t   END AS DS_GENERO \r\n",
                "    FROM MICRODADOS_ENEM_2020) AS Origem\r\n",
                "\r\n",
                "ON Destino.TP_GENERO = Origem.TP_SEXO\r\n",
                "\r\n",
                "WHEN MATCHED \r\n",
                "\r\n",
                "THEN \r\n",
                "    UPDATE SET TP_GENERO = Origem.TP_SEXO\r\n",
                "\r\n",
                "WHEN NOT MATCHED \r\n",
                "\r\n",
                "THEN \r\n",
                "    INSERT (TP_GENERO,DS_GENERO) VALUES (Origem.TP_SEXO,Origem.DS_GENERO);\r\n",
                "\t\r\n",
                "SET @vLINHAS_AFTADAS=@@ROWCOUNT;\r\n",
                "\r\n",
                "--GERANDO LOG\r\n",
                "--ATRIBUINDO VALORES\r\n",
                "SET @vNUMERO_ERRO=ERROR_NUMBER();\r\n",
                "SET @vSERVERIDADE_ERRO=ERROR_SEVERITY();\r\n",
                "SET @vESTADO_ERRO=ERROR_STATE();\r\n",
                "SET @vPROC_ERRO=ERROR_PROCEDURE();\r\n",
                "SET @vLINHA_ERRO=ERROR_LINE() ;\r\n",
                "SET @vMSG_ERRO=ERROR_MESSAGE() ;\r\n",
                "\r\n",
                "\t\t\r\n",
                "\r\n",
                "IF @@TRANCOUNT > 0  \r\n",
                "    COMMIT TRANSACTION;  \r\n",
                "--EXECUTANDO LOG\r\n",
                "--CAPTURANDO LOG DE SUCESSO\r\n",
                "SET @vDATA_FIM= GETDATE();\r\n",
                "EXECUTE PRC_lOG_DW  \r\n",
                "                @vNUMERO_ERRO,\r\n",
                "      \t\t    @vSERVERIDADE_ERRO,\r\n",
                "       \t\t    @vESTADO_ERRO,\r\n",
                "       \t\t    @vPROC_ERRO,\r\n",
                "     \t\t    @vLINHA_ERRO ,\r\n",
                "        \t\t@vMSG_ERRO ,\r\n",
                "        \t\t'SUCESSO',\r\n",
                "        \t\t@VPROCESSO,\r\n",
                "\t\t        @VDATA_INI,\r\n",
                "\t\t        @vDATA_FIM,\r\n",
                "\t\t        @vLINHAS_AFTADAS,\r\n",
                "\t\t        @vACAO,\r\n",
                "\t\t        @vDESTINO;\r\n",
                "\r\n",
                "\r\n",
                "END TRY  \r\n",
                "\r\n",
                "BEGIN CATCH\r\n",
                " \tIF @@TRANCOUNT > 0  \r\n",
                "        ROLLBACK TRANSACTION; \r\n",
                "\r\n",
                "--CAPTURANDO LOG DE ERRO\r\n",
                "SET @vDATA_FIM= GETDATE();\r\n",
                "     \t\tEXECUTE PRC_lOG_DW\r\n",
                "       \t\t  @vNUMERO_ERRO,\r\n",
                "      \t\t    @vSERVERIDADE_ERRO,\r\n",
                "       \t\t    @vESTADO_ERRO,\r\n",
                "       \t\t    @vPROC_ERRO,\r\n",
                "     \t\t    @vLINHA_ERRO ,\r\n",
                "        \t\t@vMSG_ERRO ,\r\n",
                "        \t\t'ERRO',\r\n",
                "        \t\t@VPROCESSO,\r\n",
                "\t\t        @VDATA_INI,\r\n",
                "                @vDATA_FIM,\r\n",
                "\t\t        @vLINHAS_AFTADAS,\r\n",
                "\t\t        @vACAO,\r\n",
                "\t\t        @vDESTINO;\r\n",
                "        \r\n",
                "END CATCH;  "
            ],
            "metadata": {
                "azdata_cell_guid": "43456860-121b-4955-b8f7-413f38ff6dbc",
                "tags": []
            },
            "outputs": [
                {
                    "output_type": "display_data",
                    "data": {
                        "text/html": "(2 rows affected)"
                    },
                    "metadata": {}
                },
                {
                    "output_type": "display_data",
                    "data": {
                        "text/html": "(1 row affected)"
                    },
                    "metadata": {}
                },
                {
                    "output_type": "display_data",
                    "data": {
                        "text/html": "Total execution time: 00:00:00.296"
                    },
                    "metadata": {}
                }
            ],
            "execution_count": 13
        },
        {
            "cell_type": "markdown",
            "source": [
                "CARGA FAIXA ETARIA"
            ],
            "metadata": {
                "azdata_cell_guid": "5fc61a50-498e-4f05-b91e-c12011d3dde4"
            },
            "attachments": {}
        },
        {
            "cell_type": "code",
            "source": [
                "BEGIN TRANSACTION;  \r\n",
                "   \tDECLARE @vNUMERO_ERRO int ;\r\n",
                "\tDECLARE @vSERVERIDADE_ERRO int ;\r\n",
                "\tDECLARE @vESTADO_ERRO int ;\r\n",
                "\tDECLARE @vPROC_ERRO nvarchar(255) ;\r\n",
                "\tDECLARE @vLINHA_ERRO int ;\r\n",
                "\tDECLARE @vMSG_ERRO nvarchar(255) ;\r\n",
                "\tDECLARE @vSITUACAO nvarchar(10) ;\r\n",
                "\tDECLARE @vPROCESSO nvarchar(30) ;\r\n",
                "\tDECLARE @vDATA_INI datetime ;\r\n",
                "\tDECLARE @vDATA_FIM datetime ;\r\n",
                "\tDECLARE @vLINHAS_AFTADAS int;\r\n",
                "\tDECLARE @vACAO nvarchar(10);\r\n",
                "\tDECLARE @vDESTINO varchar(30) ;\r\n",
                "\tDECLARE @ACAO NVARCHAR(10);\r\n",
                "    \r\n",
                "\tSET @VPROCESSO= 'CARGA D_FAIXA_ETARIA';\r\n",
                "\tSET @VDATA_INI= GETDATE();\r\n",
                "    \r\n",
                "    SET @vDESTINO='D_FAIXA_ETARIA';\r\n",
                "    SET @vACAO='LOAD MERGE D_FAIXA_ETARIA';\r\n",
                "\t\r\n",
                "BEGIN TRY  \r\n",
                "\r\n",
                "MERGE D_FAIXA_ETARIA AS DESTINO\r\n",
                "\r\n",
                "USING (\r\n",
                "    SELECT DISTINCT TP_FAIXA_ETARIA,\r\n",
                "    CASE \r\n",
                "        WHEN TP_FAIXA_ETARIA = '1'  THEN 'Menor de 17 anos'\r\n",
                "        WHEN TP_FAIXA_ETARIA = '2'\t THEN '17 anos'\r\n",
                "        WHEN TP_FAIXA_ETARIA = '3'\t THEN '18 anos'\r\n",
                "        WHEN TP_FAIXA_ETARIA = '4'\t THEN '19 anos'\r\n",
                "        WHEN TP_FAIXA_ETARIA = '5'\t THEN '20 anos'\r\n",
                "        WHEN TP_FAIXA_ETARIA = '6'\t THEN '21 anos'\r\n",
                "        WHEN TP_FAIXA_ETARIA = '7'\t THEN '22 anos'\r\n",
                "        WHEN TP_FAIXA_ETARIA = '8'\t THEN '23 anos'\r\n",
                "        WHEN TP_FAIXA_ETARIA = '9'\t THEN '24 anos'\r\n",
                "        WHEN TP_FAIXA_ETARIA = '10' THEN '25 anos'\r\n",
                "        WHEN TP_FAIXA_ETARIA = '11' THEN 'Entre 26 e 30 anos'\r\n",
                "        WHEN TP_FAIXA_ETARIA = '12' THEN 'Entre 31 e 35 anos'\r\n",
                "        WHEN TP_FAIXA_ETARIA = '13' THEN 'Entre 36 e 40 anos'\r\n",
                "        WHEN TP_FAIXA_ETARIA = '14' THEN 'Entre 41 e 45 anos'\r\n",
                "        WHEN TP_FAIXA_ETARIA = '15' THEN 'Entre 46 e 50 anos'\r\n",
                "        WHEN TP_FAIXA_ETARIA = '16' THEN 'Entre 51 e 55 anos'\r\n",
                "        WHEN TP_FAIXA_ETARIA = '17' THEN 'Entre 56 e 60 anos'\r\n",
                "        WHEN TP_FAIXA_ETARIA = '18' THEN 'Entre 61 e 65 anos'\r\n",
                "        WHEN TP_FAIXA_ETARIA = '19' THEN 'Entre 66 e 70 anos'\r\n",
                "        WHEN TP_FAIXA_ETARIA = '20' THEN 'Maior de 70 anos'\r\n",
                "        ELSE 'Não informado'\r\n",
                "\t END AS DS_FAIXA \r\n",
                "    FROM MICRODADOS_ENEM_2020) AS Origem\r\n",
                "\r\n",
                "ON Destino.TP_FAIXA = Origem.TP_FAIXA_ETARIA\r\n",
                "\r\n",
                "WHEN MATCHED \r\n",
                "\r\n",
                "THEN \r\n",
                "    UPDATE SET TP_FAIXA = Origem.TP_FAIXA_ETARIA\r\n",
                "\r\n",
                "WHEN NOT MATCHED \r\n",
                "\r\n",
                "THEN \r\n",
                "    INSERT (TP_FAIXA,DS_FAIXA) VALUES (Origem.TP_FAIXA_ETARIA,Origem.DS_FAIXA);\r\n",
                "\t\r\n",
                "SET @vLINHAS_AFTADAS=@@ROWCOUNT;\r\n",
                "\r\n",
                "--GERANDO LOG\r\n",
                "--ATRIBUINDO VALORES\r\n",
                "SET @vNUMERO_ERRO=ERROR_NUMBER();\r\n",
                "SET @vSERVERIDADE_ERRO=ERROR_SEVERITY();\r\n",
                "SET @vESTADO_ERRO=ERROR_STATE();\r\n",
                "SET @vPROC_ERRO=ERROR_PROCEDURE();\r\n",
                "SET @vLINHA_ERRO=ERROR_LINE() ;\r\n",
                "SET @vMSG_ERRO=ERROR_MESSAGE() ;\r\n",
                "\r\n",
                "\t\t\r\n",
                "\r\n",
                "IF @@TRANCOUNT > 0  \r\n",
                "    COMMIT TRANSACTION;  \r\n",
                "--EXECUTANDO LOG\r\n",
                "--CAPTURANDO LOG DE SUCESSO\r\n",
                "SET @vDATA_FIM= GETDATE();\r\n",
                "EXECUTE PRC_lOG_DW  \r\n",
                "                @vNUMERO_ERRO,\r\n",
                "      \t\t    @vSERVERIDADE_ERRO,\r\n",
                "       \t\t    @vESTADO_ERRO,\r\n",
                "       \t\t    @vPROC_ERRO,\r\n",
                "     \t\t    @vLINHA_ERRO ,\r\n",
                "        \t\t@vMSG_ERRO ,\r\n",
                "        \t\t'SUCESSO',\r\n",
                "        \t\t@VPROCESSO,\r\n",
                "\t\t        @VDATA_INI,\r\n",
                "\t\t        @vDATA_FIM,\r\n",
                "\t\t        @vLINHAS_AFTADAS,\r\n",
                "\t\t        @vACAO,\r\n",
                "\t\t        @vDESTINO;\r\n",
                "\r\n",
                "\r\n",
                "END TRY  \r\n",
                "\r\n",
                "BEGIN CATCH\r\n",
                " \tIF @@TRANCOUNT > 0  \r\n",
                "        ROLLBACK TRANSACTION; \r\n",
                "\r\n",
                "--CAPTURANDO LOG DE ERRO\r\n",
                "SET @vDATA_FIM= GETDATE();\r\n",
                "     \t\tEXECUTE PRC_lOG_DW\r\n",
                "       \t\t  @vNUMERO_ERRO,\r\n",
                "      \t\t    @vSERVERIDADE_ERRO,\r\n",
                "       \t\t    @vESTADO_ERRO,\r\n",
                "       \t\t    @vPROC_ERRO,\r\n",
                "     \t\t    @vLINHA_ERRO ,\r\n",
                "        \t\t@vMSG_ERRO ,\r\n",
                "        \t\t'ERRO',\r\n",
                "        \t\t@VPROCESSO,\r\n",
                "\t\t        @VDATA_INI,\r\n",
                "                @vDATA_FIM,\r\n",
                "\t\t        @vLINHAS_AFTADAS,\r\n",
                "\t\t        @vACAO,\r\n",
                "\t\t        @vDESTINO;\r\n",
                "        \r\n",
                "END CATCH;  "
            ],
            "metadata": {
                "azdata_cell_guid": "2197eb68-ce6c-4f41-81d5-6556f7d8c94e",
                "tags": []
            },
            "outputs": [
                {
                    "output_type": "display_data",
                    "data": {
                        "text/html": "(20 rows affected)"
                    },
                    "metadata": {}
                },
                {
                    "output_type": "display_data",
                    "data": {
                        "text/html": "(1 row affected)"
                    },
                    "metadata": {}
                },
                {
                    "output_type": "display_data",
                    "data": {
                        "text/html": "Total execution time: 00:00:01.766"
                    },
                    "metadata": {}
                }
            ],
            "execution_count": 16
        },
        {
            "cell_type": "markdown",
            "source": [
                "CARGA ESTADO CIVIL"
            ],
            "metadata": {
                "azdata_cell_guid": "bf6345f7-bf88-431f-baf0-18de1e6e8d97"
            },
            "attachments": {}
        },
        {
            "cell_type": "code",
            "source": [
                "BEGIN TRANSACTION;  \r\n",
                "   \tDECLARE @vNUMERO_ERRO int ;\r\n",
                "\tDECLARE @vSERVERIDADE_ERRO int ;\r\n",
                "\tDECLARE @vESTADO_ERRO int ;\r\n",
                "\tDECLARE @vPROC_ERRO nvarchar(255) ;\r\n",
                "\tDECLARE @vLINHA_ERRO int ;\r\n",
                "\tDECLARE @vMSG_ERRO nvarchar(255) ;\r\n",
                "\tDECLARE @vSITUACAO nvarchar(10) ;\r\n",
                "\tDECLARE @vPROCESSO nvarchar(30) ;\r\n",
                "\tDECLARE @vDATA_INI datetime ;\r\n",
                "\tDECLARE @vDATA_FIM datetime ;\r\n",
                "\tDECLARE @vLINHAS_AFTADAS int;\r\n",
                "\tDECLARE @vACAO nvarchar(10);\r\n",
                "\tDECLARE @vDESTINO varchar(30) ;\r\n",
                "\tDECLARE @ACAO NVARCHAR(10);\r\n",
                "    \r\n",
                "\tSET @VPROCESSO= 'CARGA D_ESTADO_CIVIL';\r\n",
                "\tSET @VDATA_INI= GETDATE();\r\n",
                "    \r\n",
                "    SET @vDESTINO='D_ESTADO_CIVIL';\r\n",
                "    SET @vACAO='LOAD MERGE D_ESTADO_CIVIL';\r\n",
                "\t\r\n",
                "BEGIN TRY  \r\n",
                "\r\n",
                "MERGE D_ESTADO_CIVIL AS DESTINO\r\n",
                "\r\n",
                "USING (\r\n",
                "    SELECT DISTINCT TP_ESTADO_CIVIL,\r\n",
                "    CASE \r\n",
                "        WHEN TP_ESTADO_CIVIL = '0'\tTHEN 'Não informado'\r\n",
                "        WHEN TP_ESTADO_CIVIL = '1'\tTHEN 'Solteiro(a)'\r\n",
                "        WHEN TP_ESTADO_CIVIL = '2'\tTHEN 'Casado(a)/Mora com companheiro(a)'\r\n",
                "        WHEN TP_ESTADO_CIVIL = '3'\tTHEN 'Divorciado(a)/Desquitado(a)/Separado(a)'\r\n",
                "        WHEN TP_ESTADO_CIVIL = '4'\tTHEN 'Viúvo(a)'\r\n",
                "        ELSE 'Não informado'\r\n",
                "\t END AS DS_ESTADO_CIVIL \r\n",
                "    FROM MICRODADOS_ENEM_2020) AS Origem\r\n",
                "\r\n",
                "ON Destino.TP_ESTADO_CIVIL = Origem.TP_ESTADO_CIVIL\r\n",
                "\r\n",
                "WHEN MATCHED \r\n",
                "\r\n",
                "THEN \r\n",
                "    UPDATE SET TP_ESTADO_CIVIL = Origem.TP_ESTADO_CIVIL\r\n",
                "\r\n",
                "WHEN NOT MATCHED \r\n",
                "\r\n",
                "THEN \r\n",
                "    INSERT (TP_ESTADO_CIVIL,DS_ESTADO_CIVIL) VALUES (Origem.TP_ESTADO_CIVIL,Origem.DS_ESTADO_CIVIL);\r\n",
                "\t\r\n",
                "SET @vLINHAS_AFTADAS=@@ROWCOUNT;\r\n",
                "\r\n",
                "--GERANDO LOG\r\n",
                "--ATRIBUINDO VALORES\r\n",
                "SET @vNUMERO_ERRO=ERROR_NUMBER();\r\n",
                "SET @vSERVERIDADE_ERRO=ERROR_SEVERITY();\r\n",
                "SET @vESTADO_ERRO=ERROR_STATE();\r\n",
                "SET @vPROC_ERRO=ERROR_PROCEDURE();\r\n",
                "SET @vLINHA_ERRO=ERROR_LINE() ;\r\n",
                "SET @vMSG_ERRO=ERROR_MESSAGE() ;\r\n",
                "\r\n",
                "\t\t\r\n",
                "\r\n",
                "IF @@TRANCOUNT > 0  \r\n",
                "    COMMIT TRANSACTION;  \r\n",
                "--EXECUTANDO LOG\r\n",
                "--CAPTURANDO LOG DE SUCESSO\r\n",
                "SET @vDATA_FIM= GETDATE();\r\n",
                "EXECUTE PRC_lOG_DW  \r\n",
                "                @vNUMERO_ERRO,\r\n",
                "      \t\t    @vSERVERIDADE_ERRO,\r\n",
                "       \t\t    @vESTADO_ERRO,\r\n",
                "       \t\t    @vPROC_ERRO,\r\n",
                "     \t\t    @vLINHA_ERRO ,\r\n",
                "        \t\t@vMSG_ERRO ,\r\n",
                "        \t\t'SUCESSO',\r\n",
                "        \t\t@VPROCESSO,\r\n",
                "\t\t        @VDATA_INI,\r\n",
                "\t\t        @vDATA_FIM,\r\n",
                "\t\t        @vLINHAS_AFTADAS,\r\n",
                "\t\t        @vACAO,\r\n",
                "\t\t        @vDESTINO;\r\n",
                "\r\n",
                "\r\n",
                "END TRY  \r\n",
                "\r\n",
                "BEGIN CATCH\r\n",
                " \tIF @@TRANCOUNT > 0  \r\n",
                "        ROLLBACK TRANSACTION; \r\n",
                "\r\n",
                "--CAPTURANDO LOG DE ERRO\r\n",
                "SET @vDATA_FIM= GETDATE();\r\n",
                "     \t\tEXECUTE PRC_lOG_DW\r\n",
                "       \t\t  @vNUMERO_ERRO,\r\n",
                "      \t\t    @vSERVERIDADE_ERRO,\r\n",
                "       \t\t    @vESTADO_ERRO,\r\n",
                "       \t\t    @vPROC_ERRO,\r\n",
                "     \t\t    @vLINHA_ERRO ,\r\n",
                "        \t\t@vMSG_ERRO ,\r\n",
                "        \t\t'ERRO',\r\n",
                "        \t\t@VPROCESSO,\r\n",
                "\t\t        @VDATA_INI,\r\n",
                "                @vDATA_FIM,\r\n",
                "\t\t        @vLINHAS_AFTADAS,\r\n",
                "\t\t        @vACAO,\r\n",
                "\t\t        @vDESTINO;\r\n",
                "        \r\n",
                "END CATCH;  "
            ],
            "metadata": {
                "azdata_cell_guid": "4011a23f-3fd3-486c-9c8f-6d7f62988762",
                "tags": [
                    "hide_input"
                ]
            },
            "outputs": [
                {
                    "output_type": "display_data",
                    "data": {
                        "text/html": "(5 rows affected)"
                    },
                    "metadata": {}
                },
                {
                    "output_type": "display_data",
                    "data": {
                        "text/html": "(1 row affected)"
                    },
                    "metadata": {}
                },
                {
                    "output_type": "display_data",
                    "data": {
                        "text/html": "Total execution time: 00:00:01.504"
                    },
                    "metadata": {}
                }
            ],
            "execution_count": 18
        },
        {
            "cell_type": "markdown",
            "source": [
                "CARGA COR/RAÇA"
            ],
            "metadata": {
                "azdata_cell_guid": "a8f8b404-f503-48ec-a3da-659d6c6151b4"
            },
            "attachments": {}
        },
        {
            "cell_type": "code",
            "source": [
                "BEGIN TRANSACTION;  \r\n",
                "   \tDECLARE @vNUMERO_ERRO int ;\r\n",
                "\tDECLARE @vSERVERIDADE_ERRO int ;\r\n",
                "\tDECLARE @vESTADO_ERRO int ;\r\n",
                "\tDECLARE @vPROC_ERRO nvarchar(255) ;\r\n",
                "\tDECLARE @vLINHA_ERRO int ;\r\n",
                "\tDECLARE @vMSG_ERRO nvarchar(255) ;\r\n",
                "\tDECLARE @vSITUACAO nvarchar(10) ;\r\n",
                "\tDECLARE @vPROCESSO nvarchar(30) ;\r\n",
                "\tDECLARE @vDATA_INI datetime ;\r\n",
                "\tDECLARE @vDATA_FIM datetime ;\r\n",
                "\tDECLARE @vLINHAS_AFTADAS int;\r\n",
                "\tDECLARE @vACAO nvarchar(10);\r\n",
                "\tDECLARE @vDESTINO varchar(30) ;\r\n",
                "\tDECLARE @ACAO NVARCHAR(10);\r\n",
                "    \r\n",
                "\tSET @VPROCESSO= 'CARGA D_COR_RACA';\r\n",
                "\tSET @VDATA_INI= GETDATE();\r\n",
                "    \r\n",
                "    SET @vDESTINO='D_COR_RACA';\r\n",
                "    SET @vACAO='LOAD MERGE D_COR_RACA';\r\n",
                "\t\r\n",
                "BEGIN TRY  \r\n",
                "\r\n",
                "MERGE D_COR_RACA AS DESTINO\r\n",
                "\r\n",
                "USING (\r\n",
                "    SELECT DISTINCT TP_COR_RACA,\r\n",
                "    CASE \r\n",
                "        WHEN TP_COR_RACA = '0'\tTHEN 'Não declarado'\r\n",
                "        WHEN TP_COR_RACA = '1'\tTHEN 'Branca'\r\n",
                "        WHEN TP_COR_RACA = '2'\tTHEN 'Preta'\r\n",
                "        WHEN TP_COR_RACA = '3'\tTHEN 'Parda'\r\n",
                "        WHEN TP_COR_RACA = '4'\tTHEN 'Amarela'\r\n",
                "        WHEN TP_COR_RACA = '5'\tTHEN 'Indígena'\r\n",
                "        ELSE 'Não declarado'\r\n",
                "\t END AS DS_COR_RACA \r\n",
                "    FROM MICRODADOS_ENEM_2020) AS Origem\r\n",
                "\r\n",
                "ON Destino.TP_COR_RACA = Origem.TP_COR_RACA\r\n",
                "\r\n",
                "WHEN MATCHED \r\n",
                "\r\n",
                "THEN \r\n",
                "    UPDATE SET TP_COR_RACA = Origem.TP_COR_RACA\r\n",
                "\r\n",
                "WHEN NOT MATCHED \r\n",
                "\r\n",
                "THEN \r\n",
                "    INSERT (TP_COR_RACA,DS_COR_RACA) VALUES (Origem.TP_COR_RACA,Origem.DS_COR_RACA);\r\n",
                "\t\r\n",
                "SET @vLINHAS_AFTADAS=@@ROWCOUNT;\r\n",
                "\r\n",
                "--GERANDO LOG\r\n",
                "--ATRIBUINDO VALORES\r\n",
                "SET @vNUMERO_ERRO=ERROR_NUMBER();\r\n",
                "SET @vSERVERIDADE_ERRO=ERROR_SEVERITY();\r\n",
                "SET @vESTADO_ERRO=ERROR_STATE();\r\n",
                "SET @vPROC_ERRO=ERROR_PROCEDURE();\r\n",
                "SET @vLINHA_ERRO=ERROR_LINE() ;\r\n",
                "SET @vMSG_ERRO=ERROR_MESSAGE() ;\r\n",
                "\r\n",
                "\t\t\r\n",
                "\r\n",
                "IF @@TRANCOUNT > 0  \r\n",
                "    COMMIT TRANSACTION;  \r\n",
                "--EXECUTANDO LOG\r\n",
                "--CAPTURANDO LOG DE SUCESSO\r\n",
                "SET @vDATA_FIM= GETDATE();\r\n",
                "EXECUTE PRC_lOG_DW  \r\n",
                "                @vNUMERO_ERRO,\r\n",
                "      \t\t    @vSERVERIDADE_ERRO,\r\n",
                "       \t\t    @vESTADO_ERRO,\r\n",
                "       \t\t    @vPROC_ERRO,\r\n",
                "     \t\t    @vLINHA_ERRO ,\r\n",
                "        \t\t@vMSG_ERRO ,\r\n",
                "        \t\t'SUCESSO',\r\n",
                "        \t\t@VPROCESSO,\r\n",
                "\t\t        @VDATA_INI,\r\n",
                "\t\t        @vDATA_FIM,\r\n",
                "\t\t        @vLINHAS_AFTADAS,\r\n",
                "\t\t        @vACAO,\r\n",
                "\t\t        @vDESTINO;\r\n",
                "\r\n",
                "\r\n",
                "END TRY  \r\n",
                "\r\n",
                "BEGIN CATCH\r\n",
                " \tIF @@TRANCOUNT > 0  \r\n",
                "        ROLLBACK TRANSACTION; \r\n",
                "\r\n",
                "--CAPTURANDO LOG DE ERRO\r\n",
                "SET @vDATA_FIM= GETDATE();\r\n",
                "     \t\tEXECUTE PRC_lOG_DW\r\n",
                "       \t\t  @vNUMERO_ERRO,\r\n",
                "      \t\t    @vSERVERIDADE_ERRO,\r\n",
                "       \t\t    @vESTADO_ERRO,\r\n",
                "       \t\t    @vPROC_ERRO,\r\n",
                "     \t\t    @vLINHA_ERRO ,\r\n",
                "        \t\t@vMSG_ERRO ,\r\n",
                "        \t\t'ERRO',\r\n",
                "        \t\t@VPROCESSO,\r\n",
                "\t\t        @VDATA_INI,\r\n",
                "                @vDATA_FIM,\r\n",
                "\t\t        @vLINHAS_AFTADAS,\r\n",
                "\t\t        @vACAO,\r\n",
                "\t\t        @vDESTINO;\r\n",
                "        \r\n",
                "END CATCH;  "
            ],
            "metadata": {
                "azdata_cell_guid": "793c94fc-5ef6-49b5-8b7b-502aadacce9a",
                "tags": [
                    "hide_input"
                ]
            },
            "outputs": [
                {
                    "output_type": "display_data",
                    "data": {
                        "text/html": "(6 rows affected)"
                    },
                    "metadata": {}
                },
                {
                    "output_type": "display_data",
                    "data": {
                        "text/html": "(1 row affected)"
                    },
                    "metadata": {}
                },
                {
                    "output_type": "display_data",
                    "data": {
                        "text/html": "Total execution time: 00:00:00.889"
                    },
                    "metadata": {}
                }
            ],
            "execution_count": 20
        },
        {
            "cell_type": "markdown",
            "source": [
                "CARGA NACIONALIDADE"
            ],
            "metadata": {
                "azdata_cell_guid": "a0eac596-5c7c-40ec-811f-a8a1a8814f37"
            },
            "attachments": {}
        },
        {
            "cell_type": "code",
            "source": [
                "BEGIN TRANSACTION;  \r\n",
                "   \tDECLARE @vNUMERO_ERRO int ;\r\n",
                "\tDECLARE @vSERVERIDADE_ERRO int ;\r\n",
                "\tDECLARE @vESTADO_ERRO int ;\r\n",
                "\tDECLARE @vPROC_ERRO nvarchar(255) ;\r\n",
                "\tDECLARE @vLINHA_ERRO int ;\r\n",
                "\tDECLARE @vMSG_ERRO nvarchar(255) ;\r\n",
                "\tDECLARE @vSITUACAO nvarchar(10) ;\r\n",
                "\tDECLARE @vPROCESSO nvarchar(30) ;\r\n",
                "\tDECLARE @vDATA_INI datetime ;\r\n",
                "\tDECLARE @vDATA_FIM datetime ;\r\n",
                "\tDECLARE @vLINHAS_AFTADAS int;\r\n",
                "\tDECLARE @vACAO nvarchar(10);\r\n",
                "\tDECLARE @vDESTINO varchar(30) ;\r\n",
                "\tDECLARE @ACAO NVARCHAR(10);\r\n",
                "    \r\n",
                "\tSET @VPROCESSO= 'CARGA D_NACIONALIDADE';\r\n",
                "\tSET @VDATA_INI= GETDATE();\r\n",
                "    \r\n",
                "    SET @vDESTINO='D_NACIONALIDADE';\r\n",
                "    SET @vACAO='LOAD MERGE D_NACIONALIDADE';\r\n",
                "\t\r\n",
                "BEGIN TRY  \r\n",
                "\r\n",
                "MERGE D_NACIONALIDADE AS DESTINO\r\n",
                "\r\n",
                "USING (\r\n",
                "    SELECT DISTINCT TP_NACIONALIDADE,\r\n",
                "    CASE \r\n",
                "        WHEN TP_NACIONALIDADE = '0'\tTHEN 'Não informado'\r\n",
                "        WHEN TP_NACIONALIDADE = '1'\tTHEN 'Brasileiro(a)'\r\n",
                "        WHEN TP_NACIONALIDADE = '2'\tTHEN 'Brasileiro(a) Naturalizado(a)'\r\n",
                "        WHEN TP_NACIONALIDADE = '3'\tTHEN 'Estrangeiro(a)'\r\n",
                "        WHEN TP_NACIONALIDADE = '4'\tTHEN 'Brasileiro(a) Nato(a), nascido(a) no exterior'\r\n",
                "        ELSE 'Não informado'\r\n",
                "\t END AS DS_NACIONALIDADE \r\n",
                "    FROM MICRODADOS_ENEM_2020) AS Origem\r\n",
                "\r\n",
                "ON Destino.TP_NACIONALIDADE = Origem.TP_NACIONALIDADE\r\n",
                "\r\n",
                "WHEN MATCHED \r\n",
                "\r\n",
                "THEN \r\n",
                "    UPDATE SET TP_NACIONALIDADE = Origem.TP_NACIONALIDADE\r\n",
                "\r\n",
                "WHEN NOT MATCHED \r\n",
                "\r\n",
                "THEN \r\n",
                "    INSERT (TP_NACIONALIDADE,DS_NACIONALIDADE) VALUES (Origem.TP_NACIONALIDADE,Origem.DS_NACIONALIDADE);\r\n",
                "\t\r\n",
                "SET @vLINHAS_AFTADAS=@@ROWCOUNT;\r\n",
                "\r\n",
                "--GERANDO LOG\r\n",
                "--ATRIBUINDO VALORES\r\n",
                "SET @vNUMERO_ERRO=ERROR_NUMBER();\r\n",
                "SET @vSERVERIDADE_ERRO=ERROR_SEVERITY();\r\n",
                "SET @vESTADO_ERRO=ERROR_STATE();\r\n",
                "SET @vPROC_ERRO=ERROR_PROCEDURE();\r\n",
                "SET @vLINHA_ERRO=ERROR_LINE() ;\r\n",
                "SET @vMSG_ERRO=ERROR_MESSAGE() ;\r\n",
                "\r\n",
                "\t\t\r\n",
                "\r\n",
                "IF @@TRANCOUNT > 0  \r\n",
                "    COMMIT TRANSACTION;  \r\n",
                "--EXECUTANDO LOG\r\n",
                "--CAPTURANDO LOG DE SUCESSO\r\n",
                "SET @vDATA_FIM= GETDATE();\r\n",
                "EXECUTE PRC_lOG_DW  \r\n",
                "                @vNUMERO_ERRO,\r\n",
                "      \t\t    @vSERVERIDADE_ERRO,\r\n",
                "       \t\t    @vESTADO_ERRO,\r\n",
                "       \t\t    @vPROC_ERRO,\r\n",
                "     \t\t    @vLINHA_ERRO ,\r\n",
                "        \t\t@vMSG_ERRO ,\r\n",
                "        \t\t'SUCESSO',\r\n",
                "        \t\t@VPROCESSO,\r\n",
                "\t\t        @VDATA_INI,\r\n",
                "\t\t        @vDATA_FIM,\r\n",
                "\t\t        @vLINHAS_AFTADAS,\r\n",
                "\t\t        @vACAO,\r\n",
                "\t\t        @vDESTINO;\r\n",
                "\r\n",
                "\r\n",
                "END TRY  \r\n",
                "\r\n",
                "BEGIN CATCH\r\n",
                " \tIF @@TRANCOUNT > 0  \r\n",
                "        ROLLBACK TRANSACTION; \r\n",
                "\r\n",
                "--CAPTURANDO LOG DE ERRO\r\n",
                "SET @vDATA_FIM= GETDATE();\r\n",
                "     \t\tEXECUTE PRC_lOG_DW\r\n",
                "       \t\t  @vNUMERO_ERRO,\r\n",
                "      \t\t    @vSERVERIDADE_ERRO,\r\n",
                "       \t\t    @vESTADO_ERRO,\r\n",
                "       \t\t    @vPROC_ERRO,\r\n",
                "     \t\t    @vLINHA_ERRO ,\r\n",
                "        \t\t@vMSG_ERRO ,\r\n",
                "        \t\t'ERRO',\r\n",
                "        \t\t@VPROCESSO,\r\n",
                "\t\t        @VDATA_INI,\r\n",
                "                @vDATA_FIM,\r\n",
                "\t\t        @vLINHAS_AFTADAS,\r\n",
                "\t\t        @vACAO,\r\n",
                "\t\t        @vDESTINO;\r\n",
                "        \r\n",
                "END CATCH;  "
            ],
            "metadata": {
                "azdata_cell_guid": "d7f2b5d2-c907-4416-ab9a-d7f2fdac6f41",
                "tags": [
                    "hide_input"
                ]
            },
            "outputs": [
                {
                    "output_type": "display_data",
                    "data": {
                        "text/html": "(5 rows affected)"
                    },
                    "metadata": {}
                },
                {
                    "output_type": "display_data",
                    "data": {
                        "text/html": "(1 row affected)"
                    },
                    "metadata": {}
                },
                {
                    "output_type": "display_data",
                    "data": {
                        "text/html": "Total execution time: 00:00:00.393"
                    },
                    "metadata": {}
                }
            ],
            "execution_count": 22
        },
        {
            "cell_type": "markdown",
            "source": [
                "CARGA SITUACAO ENSINO MEDIO"
            ],
            "metadata": {
                "azdata_cell_guid": "b6c10c75-e5e1-4487-8f55-c2fae085b409"
            },
            "attachments": {}
        },
        {
            "cell_type": "code",
            "source": [
                "BEGIN TRANSACTION;  \r\n",
                "   \tDECLARE @vNUMERO_ERRO int ;\r\n",
                "\tDECLARE @vSERVERIDADE_ERRO int ;\r\n",
                "\tDECLARE @vESTADO_ERRO int ;\r\n",
                "\tDECLARE @vPROC_ERRO nvarchar(255) ;\r\n",
                "\tDECLARE @vLINHA_ERRO int ;\r\n",
                "\tDECLARE @vMSG_ERRO nvarchar(255) ;\r\n",
                "\tDECLARE @vSITUACAO nvarchar(10) ;\r\n",
                "\tDECLARE @vPROCESSO nvarchar(30) ;\r\n",
                "\tDECLARE @vDATA_INI datetime ;\r\n",
                "\tDECLARE @vDATA_FIM datetime ;\r\n",
                "\tDECLARE @vLINHAS_AFTADAS int;\r\n",
                "\tDECLARE @vACAO nvarchar(10);\r\n",
                "\tDECLARE @vDESTINO varchar(30) ;\r\n",
                "\tDECLARE @ACAO NVARCHAR(10);\r\n",
                "    \r\n",
                "\tSET @VPROCESSO= 'CARGA D_SITUACAO_EM';\r\n",
                "\tSET @VDATA_INI= GETDATE();\r\n",
                "    \r\n",
                "    SET @vDESTINO='D_SITUACAO_EM';\r\n",
                "    SET @vACAO='LOAD MERGE D_SITUACAO_EM';\r\n",
                "\t\r\n",
                "BEGIN TRY  \r\n",
                "\r\n",
                "MERGE D_SITUACAO_EM AS DESTINO\r\n",
                "\r\n",
                "USING (\r\n",
                "    SELECT DISTINCT TP_ST_CONCLUSAO,\r\n",
                "\tCASE \r\n",
                "       WHEN TP_ST_CONCLUSAO = '1'\tTHEN 'Já concluí o Ensino Médio'\r\n",
                "       WHEN TP_ST_CONCLUSAO = '2'\tTHEN 'Estou cursando e concluirei o Ensino Médio em 2020'\r\n",
                "       WHEN TP_ST_CONCLUSAO = '3'\tTHEN 'Estou cursando e concluirei o Ensino Médio após 2020'\r\n",
                "       WHEN TP_ST_CONCLUSAO = '4'\tTHEN 'Não concluí e não estou cursando o Ensino Médio'\r\n",
                "\t END AS DS_SITUACAO\r\n",
                "FROM MICRODADOS_ENEM_2020) AS Origem\r\n",
                "\r\n",
                "ON Destino.ST_CONCLUSAO = Origem.TP_ST_CONCLUSAO\r\n",
                "\r\n",
                "WHEN MATCHED \r\n",
                "\r\n",
                "THEN \r\n",
                "    UPDATE SET ST_CONCLUSAO = Origem.TP_ST_CONCLUSAO\r\n",
                "\r\n",
                "WHEN NOT MATCHED \r\n",
                "\r\n",
                "THEN \r\n",
                "    INSERT (ST_CONCLUSAO,DS_SITUACAO) VALUES (Origem.TP_ST_CONCLUSAO,Origem.DS_SITUACAO);\r\n",
                "\t\r\n",
                "SET @vLINHAS_AFTADAS=@@ROWCOUNT;\r\n",
                "\r\n",
                "--GERANDO LOG\r\n",
                "--ATRIBUINDO VALORES\r\n",
                "SET @vNUMERO_ERRO=ERROR_NUMBER();\r\n",
                "SET @vSERVERIDADE_ERRO=ERROR_SEVERITY();\r\n",
                "SET @vESTADO_ERRO=ERROR_STATE();\r\n",
                "SET @vPROC_ERRO=ERROR_PROCEDURE();\r\n",
                "SET @vLINHA_ERRO=ERROR_LINE() ;\r\n",
                "SET @vMSG_ERRO=ERROR_MESSAGE() ;\r\n",
                "\r\n",
                "\t\t\r\n",
                "\r\n",
                "IF @@TRANCOUNT > 0  \r\n",
                "    COMMIT TRANSACTION;  \r\n",
                "--EXECUTANDO LOG\r\n",
                "--CAPTURANDO LOG DE SUCESSO\r\n",
                "SET @vDATA_FIM= GETDATE();\r\n",
                "EXECUTE PRC_lOG_DW  \r\n",
                "                @vNUMERO_ERRO,\r\n",
                "      \t\t    @vSERVERIDADE_ERRO,\r\n",
                "       \t\t    @vESTADO_ERRO,\r\n",
                "       \t\t    @vPROC_ERRO,\r\n",
                "     \t\t    @vLINHA_ERRO ,\r\n",
                "        \t\t@vMSG_ERRO ,\r\n",
                "        \t\t'SUCESSO',\r\n",
                "        \t\t@VPROCESSO,\r\n",
                "\t\t        @VDATA_INI,\r\n",
                "\t\t        @vDATA_FIM,\r\n",
                "\t\t        @vLINHAS_AFTADAS,\r\n",
                "\t\t        @vACAO,\r\n",
                "\t\t        @vDESTINO;\r\n",
                "\r\n",
                "\r\n",
                "END TRY  \r\n",
                "\r\n",
                "BEGIN CATCH\r\n",
                " \tIF @@TRANCOUNT > 0  \r\n",
                "        ROLLBACK TRANSACTION; \r\n",
                "\r\n",
                "--CAPTURANDO LOG DE ERRO\r\n",
                "SET @vDATA_FIM= GETDATE();\r\n",
                "     \t\tEXECUTE PRC_lOG_DW\r\n",
                "       \t\t  @vNUMERO_ERRO,\r\n",
                "      \t\t    @vSERVERIDADE_ERRO,\r\n",
                "       \t\t    @vESTADO_ERRO,\r\n",
                "       \t\t    @vPROC_ERRO,\r\n",
                "     \t\t    @vLINHA_ERRO ,\r\n",
                "        \t\t@vMSG_ERRO ,\r\n",
                "        \t\t'ERRO',\r\n",
                "        \t\t@VPROCESSO,\r\n",
                "\t\t        @VDATA_INI,\r\n",
                "                @vDATA_FIM,\r\n",
                "\t\t        @vLINHAS_AFTADAS,\r\n",
                "\t\t        @vACAO,\r\n",
                "\t\t        @vDESTINO;\r\n",
                "        \r\n",
                "END CATCH;  "
            ],
            "metadata": {
                "azdata_cell_guid": "8b8355e5-87f9-4a67-a2bb-3fd3b0af81c3",
                "tags": [
                    "hide_input"
                ]
            },
            "outputs": [
                {
                    "output_type": "display_data",
                    "data": {
                        "text/html": "(4 rows affected)"
                    },
                    "metadata": {}
                },
                {
                    "output_type": "display_data",
                    "data": {
                        "text/html": "(1 row affected)"
                    },
                    "metadata": {}
                },
                {
                    "output_type": "display_data",
                    "data": {
                        "text/html": "Total execution time: 00:00:00.303"
                    },
                    "metadata": {}
                }
            ],
            "execution_count": 49
        },
        {
            "cell_type": "markdown",
            "source": [
                "CARGA ANO CONCLUSAO EM"
            ],
            "metadata": {
                "azdata_cell_guid": "81ad1857-24d9-48bd-982c-e197bb3b732a"
            },
            "attachments": {}
        },
        {
            "cell_type": "code",
            "source": [
                "BEGIN TRANSACTION;  \r\n",
                "   \tDECLARE @vNUMERO_ERRO int ;\r\n",
                "\tDECLARE @vSERVERIDADE_ERRO int ;\r\n",
                "\tDECLARE @vESTADO_ERRO int ;\r\n",
                "\tDECLARE @vPROC_ERRO nvarchar(255) ;\r\n",
                "\tDECLARE @vLINHA_ERRO int ;\r\n",
                "\tDECLARE @vMSG_ERRO nvarchar(255) ;\r\n",
                "\tDECLARE @vSITUACAO nvarchar(10) ;\r\n",
                "\tDECLARE @vPROCESSO nvarchar(30) ;\r\n",
                "\tDECLARE @vDATA_INI datetime ;\r\n",
                "\tDECLARE @vDATA_FIM datetime ;\r\n",
                "\tDECLARE @vLINHAS_AFTADAS int;\r\n",
                "\tDECLARE @vACAO nvarchar(10);\r\n",
                "\tDECLARE @vDESTINO varchar(30) ;\r\n",
                "\tDECLARE @ACAO NVARCHAR(10);\r\n",
                "    \r\n",
                "\tSET @VPROCESSO= 'CARGA D_ANO_CONCLUSAO_EM';\r\n",
                "\tSET @VDATA_INI= GETDATE();\r\n",
                "    \r\n",
                "    SET @vDESTINO='D_ANO_CONCLUSAO_EM';\r\n",
                "    SET @vACAO='LOAD MERGE D_ANO_CONCLUSAO_EM';\r\n",
                "\t\r\n",
                "BEGIN TRY  \r\n",
                "\r\n",
                "MERGE D_ANO_CONCLUSAO_EM AS DESTINO\r\n",
                "\r\n",
                "USING (\r\n",
                "    SELECT DISTINCT TP_ANO_CONCLUIU,\r\n",
                "    CASE \r\n",
                "\t\tWHEN TP_ANO_CONCLUIU = '0'\tTHEN 'Não informado'\r\n",
                "\t\tWHEN TP_ANO_CONCLUIU = '1'\tTHEN '2019'\r\n",
                "\t\tWHEN TP_ANO_CONCLUIU = '2'\tTHEN '2018'\r\n",
                "\t\tWHEN TP_ANO_CONCLUIU = '3'\tTHEN '2017'\r\n",
                "\t\tWHEN TP_ANO_CONCLUIU = '4'\tTHEN '2016'\r\n",
                "\t\tWHEN TP_ANO_CONCLUIU = '5'\tTHEN '2015'\r\n",
                "\t\tWHEN TP_ANO_CONCLUIU = '6'\tTHEN '2014'\r\n",
                "\t\tWHEN TP_ANO_CONCLUIU = '7'\tTHEN '2013'\r\n",
                "\t\tWHEN TP_ANO_CONCLUIU = '8'\tTHEN '2012'\r\n",
                "\t\tWHEN TP_ANO_CONCLUIU = '9'\tTHEN '2011'\r\n",
                "\t\tWHEN TP_ANO_CONCLUIU = '10'\tTHEN '2010'\r\n",
                "\t\tWHEN TP_ANO_CONCLUIU = '11'\tTHEN '2009'\r\n",
                "\t\tWHEN TP_ANO_CONCLUIU = '12'\tTHEN '2008'\r\n",
                "\t\tWHEN TP_ANO_CONCLUIU = '13'\tTHEN '2007'\r\n",
                "\t\tWHEN TP_ANO_CONCLUIU = '14'\tTHEN 'Antes de 2007'\r\n",
                "\t END AS NR_ANO_CONCLUSAO \r\n",
                "    FROM MICRODADOS_ENEM_2020) AS Origem\r\n",
                "\r\n",
                "ON Destino.TP_ANO_CONCLUIU = Origem.TP_ANO_CONCLUIU\r\n",
                "\r\n",
                "WHEN MATCHED \r\n",
                "\r\n",
                "THEN \r\n",
                "    UPDATE SET TP_ANO_CONCLUIU = Origem.TP_ANO_CONCLUIU\r\n",
                "\r\n",
                "WHEN NOT MATCHED \r\n",
                "\r\n",
                "THEN \r\n",
                "    INSERT (TP_ANO_CONCLUIU,NR_ANO_CONCLUSAO) VALUES (Origem.TP_ANO_CONCLUIU,Origem.NR_ANO_CONCLUSAO);\r\n",
                "\t\r\n",
                "SET @vLINHAS_AFTADAS=@@ROWCOUNT;\r\n",
                "\r\n",
                "--GERANDO LOG\r\n",
                "--ATRIBUINDO VALORES\r\n",
                "SET @vNUMERO_ERRO=ERROR_NUMBER();\r\n",
                "SET @vSERVERIDADE_ERRO=ERROR_SEVERITY();\r\n",
                "SET @vESTADO_ERRO=ERROR_STATE();\r\n",
                "SET @vPROC_ERRO=ERROR_PROCEDURE();\r\n",
                "SET @vLINHA_ERRO=ERROR_LINE() ;\r\n",
                "SET @vMSG_ERRO=ERROR_MESSAGE() ;\r\n",
                "\r\n",
                "\t\t\r\n",
                "\r\n",
                "IF @@TRANCOUNT > 0  \r\n",
                "    COMMIT TRANSACTION;  \r\n",
                "--EXECUTANDO LOG\r\n",
                "--CAPTURANDO LOG DE SUCESSO\r\n",
                "SET @vDATA_FIM= GETDATE();\r\n",
                "EXECUTE PRC_lOG_DW  \r\n",
                "                @vNUMERO_ERRO,\r\n",
                "      \t\t    @vSERVERIDADE_ERRO,\r\n",
                "       \t\t    @vESTADO_ERRO,\r\n",
                "       \t\t    @vPROC_ERRO,\r\n",
                "     \t\t    @vLINHA_ERRO ,\r\n",
                "        \t\t@vMSG_ERRO ,\r\n",
                "        \t\t'SUCESSO',\r\n",
                "        \t\t@VPROCESSO,\r\n",
                "\t\t        @VDATA_INI,\r\n",
                "\t\t        @vDATA_FIM,\r\n",
                "\t\t        @vLINHAS_AFTADAS,\r\n",
                "\t\t        @vACAO,\r\n",
                "\t\t        @vDESTINO;\r\n",
                "\r\n",
                "\r\n",
                "END TRY  \r\n",
                "\r\n",
                "BEGIN CATCH\r\n",
                " \tIF @@TRANCOUNT > 0  \r\n",
                "        ROLLBACK TRANSACTION; \r\n",
                "\r\n",
                "--CAPTURANDO LOG DE ERRO\r\n",
                "SET @vDATA_FIM= GETDATE();\r\n",
                "     \t\tEXECUTE PRC_lOG_DW\r\n",
                "       \t\t  @vNUMERO_ERRO,\r\n",
                "      \t\t    @vSERVERIDADE_ERRO,\r\n",
                "       \t\t    @vESTADO_ERRO,\r\n",
                "       \t\t    @vPROC_ERRO,\r\n",
                "     \t\t    @vLINHA_ERRO ,\r\n",
                "        \t\t@vMSG_ERRO ,\r\n",
                "        \t\t'ERRO',\r\n",
                "        \t\t@VPROCESSO,\r\n",
                "\t\t        @VDATA_INI,\r\n",
                "                @vDATA_FIM,\r\n",
                "\t\t        @vLINHAS_AFTADAS,\r\n",
                "\t\t        @vACAO,\r\n",
                "\t\t        @vDESTINO;\r\n",
                "        \r\n",
                "END CATCH;  "
            ],
            "metadata": {
                "azdata_cell_guid": "e205a3dc-1a82-4ece-8d91-d0ee97b8aee3",
                "tags": [
                    "hide_input"
                ]
            },
            "outputs": [
                {
                    "output_type": "display_data",
                    "data": {
                        "text/html": "(15 rows affected)"
                    },
                    "metadata": {}
                },
                {
                    "output_type": "display_data",
                    "data": {
                        "text/html": "(1 row affected)"
                    },
                    "metadata": {}
                },
                {
                    "output_type": "display_data",
                    "data": {
                        "text/html": "Total execution time: 00:00:00.492"
                    },
                    "metadata": {}
                }
            ],
            "execution_count": 50
        },
        {
            "cell_type": "markdown",
            "source": [
                "CARGA TIPO ESCOLA"
            ],
            "metadata": {
                "azdata_cell_guid": "ca829d8f-97a3-49a9-94ef-ed7b4d09e358"
            },
            "attachments": {}
        },
        {
            "cell_type": "code",
            "source": [
                "BEGIN TRANSACTION;  \r\n",
                "   \tDECLARE @vNUMERO_ERRO int ;\r\n",
                "\tDECLARE @vSERVERIDADE_ERRO int ;\r\n",
                "\tDECLARE @vESTADO_ERRO int ;\r\n",
                "\tDECLARE @vPROC_ERRO nvarchar(255) ;\r\n",
                "\tDECLARE @vLINHA_ERRO int ;\r\n",
                "\tDECLARE @vMSG_ERRO nvarchar(255) ;\r\n",
                "\tDECLARE @vSITUACAO nvarchar(10) ;\r\n",
                "\tDECLARE @vPROCESSO nvarchar(30) ;\r\n",
                "\tDECLARE @vDATA_INI datetime ;\r\n",
                "\tDECLARE @vDATA_FIM datetime ;\r\n",
                "\tDECLARE @vLINHAS_AFTADAS int;\r\n",
                "\tDECLARE @vACAO nvarchar(10);\r\n",
                "\tDECLARE @vDESTINO varchar(30) ;\r\n",
                "\tDECLARE @ACAO NVARCHAR(10);\r\n",
                "    \r\n",
                "\tSET @VPROCESSO= 'CARGA D_TP_ESCOLA_EM';\r\n",
                "\tSET @VDATA_INI= GETDATE();\r\n",
                "    \r\n",
                "    SET @vDESTINO='D_TP_ESCOLA_EM';\r\n",
                "    SET @vACAO='LOAD MERGE D_TP_ESCOLA_EM';\r\n",
                "\t\r\n",
                "BEGIN TRY  \r\n",
                "\r\n",
                "MERGE D_TP_ESCOLA_EM AS DESTINO\r\n",
                "\r\n",
                "USING (\r\n",
                "    SELECT DISTINCT TP_ESCOLA,\r\n",
                "\tCASE\r\n",
                "\t\tWHEN TP_ESCOLA = '1'\tTHEN 'Não Respondeu'\r\n",
                "\t\tWHEN TP_ESCOLA = '2'\tTHEN 'Pública'\r\n",
                "\t\tWHEN TP_ESCOLA = '3'\tTHEN 'Privada'\r\n",
                "\t\tWHEN TP_ESCOLA = '4'\tTHEN 'Exterior'\r\n",
                "\tEND AS DS_TP_ESCOLA\r\n",
                "    FROM MICRODADOS_ENEM_2020) AS Origem\r\n",
                "\r\n",
                "ON Destino.TP_ESCOLA = Origem.TP_ESCOLA\r\n",
                "\r\n",
                "WHEN MATCHED \r\n",
                "\r\n",
                "THEN \r\n",
                "    UPDATE SET TP_ESCOLA = Origem.TP_ESCOLA\r\n",
                "\r\n",
                "WHEN NOT MATCHED \r\n",
                "\r\n",
                "THEN \r\n",
                "    INSERT (TP_ESCOLA,DS_ESCOLA) VALUES (Origem.TP_ESCOLA,Origem.DS_TP_ESCOLA);\r\n",
                "\t\r\n",
                "SET @vLINHAS_AFTADAS=@@ROWCOUNT;\r\n",
                "\r\n",
                "--GERANDO LOG\r\n",
                "--ATRIBUINDO VALORES\r\n",
                "SET @vNUMERO_ERRO=ERROR_NUMBER();\r\n",
                "SET @vSERVERIDADE_ERRO=ERROR_SEVERITY();\r\n",
                "SET @vESTADO_ERRO=ERROR_STATE();\r\n",
                "SET @vPROC_ERRO=ERROR_PROCEDURE();\r\n",
                "SET @vLINHA_ERRO=ERROR_LINE() ;\r\n",
                "SET @vMSG_ERRO=ERROR_MESSAGE() ;\r\n",
                "\r\n",
                "\t\t\r\n",
                "\r\n",
                "IF @@TRANCOUNT > 0  \r\n",
                "    COMMIT TRANSACTION;  \r\n",
                "--EXECUTANDO LOG\r\n",
                "--CAPTURANDO LOG DE SUCESSO\r\n",
                "SET @vDATA_FIM= GETDATE();\r\n",
                "EXECUTE PRC_lOG_DW  \r\n",
                "                @vNUMERO_ERRO,\r\n",
                "      \t\t    @vSERVERIDADE_ERRO,\r\n",
                "       \t\t    @vESTADO_ERRO,\r\n",
                "       \t\t    @vPROC_ERRO,\r\n",
                "     \t\t    @vLINHA_ERRO ,\r\n",
                "        \t\t@vMSG_ERRO ,\r\n",
                "        \t\t'SUCESSO',\r\n",
                "        \t\t@VPROCESSO,\r\n",
                "\t\t        @VDATA_INI,\r\n",
                "\t\t        @vDATA_FIM,\r\n",
                "\t\t        @vLINHAS_AFTADAS,\r\n",
                "\t\t        @vACAO,\r\n",
                "\t\t        @vDESTINO;\r\n",
                "\r\n",
                "\r\n",
                "END TRY  \r\n",
                "\r\n",
                "BEGIN CATCH\r\n",
                " \tIF @@TRANCOUNT > 0  \r\n",
                "        ROLLBACK TRANSACTION; \r\n",
                "\r\n",
                "--CAPTURANDO LOG DE ERRO\r\n",
                "SET @vDATA_FIM= GETDATE();\r\n",
                "     \t\tEXECUTE PRC_lOG_DW\r\n",
                "       \t\t  @vNUMERO_ERRO,\r\n",
                "      \t\t    @vSERVERIDADE_ERRO,\r\n",
                "       \t\t    @vESTADO_ERRO,\r\n",
                "       \t\t    @vPROC_ERRO,\r\n",
                "     \t\t    @vLINHA_ERRO ,\r\n",
                "        \t\t@vMSG_ERRO ,\r\n",
                "        \t\t'ERRO',\r\n",
                "        \t\t@VPROCESSO,\r\n",
                "\t\t        @VDATA_INI,\r\n",
                "                @vDATA_FIM,\r\n",
                "\t\t        @vLINHAS_AFTADAS,\r\n",
                "\t\t        @vACAO,\r\n",
                "\t\t        @vDESTINO;\r\n",
                "        \r\n",
                "END CATCH;  "
            ],
            "metadata": {
                "azdata_cell_guid": "38636dc9-ef60-4615-8a96-39bdc216392b",
                "tags": []
            },
            "outputs": [
                {
                    "output_type": "display_data",
                    "data": {
                        "text/html": "(3 rows affected)"
                    },
                    "metadata": {}
                },
                {
                    "output_type": "display_data",
                    "data": {
                        "text/html": "(1 row affected)"
                    },
                    "metadata": {}
                },
                {
                    "output_type": "display_data",
                    "data": {
                        "text/html": "Total execution time: 00:00:00.212"
                    },
                    "metadata": {}
                }
            ],
            "execution_count": 55
        },
        {
            "cell_type": "markdown",
            "source": [
                "CARGA ESCOLA"
            ],
            "metadata": {
                "azdata_cell_guid": "90a8ea9c-a969-4cc2-9ade-cf6deb354ea1"
            },
            "attachments": {}
        },
        {
            "cell_type": "code",
            "source": [
                "BEGIN TRANSACTION;  \r\n",
                "   \tDECLARE @vNUMERO_ERRO int ;\r\n",
                "\tDECLARE @vSERVERIDADE_ERRO int ;\r\n",
                "\tDECLARE @vESTADO_ERRO int ;\r\n",
                "\tDECLARE @vPROC_ERRO nvarchar(255) ;\r\n",
                "\tDECLARE @vLINHA_ERRO int ;\r\n",
                "\tDECLARE @vMSG_ERRO nvarchar(255) ;\r\n",
                "\tDECLARE @vSITUACAO nvarchar(10) ;\r\n",
                "\tDECLARE @vPROCESSO nvarchar(30) ;\r\n",
                "\tDECLARE @vDATA_INI datetime ;\r\n",
                "\tDECLARE @vDATA_FIM datetime ;\r\n",
                "\tDECLARE @vLINHAS_AFTADAS int;\r\n",
                "\tDECLARE @vACAO nvarchar(10);\r\n",
                "\tDECLARE @vDESTINO varchar(30) ;\r\n",
                "\tDECLARE @ACAO NVARCHAR(10);\r\n",
                "    \r\n",
                "\tSET @VPROCESSO= 'CARGA D_ESCOLA';\r\n",
                "\tSET @VDATA_INI= GETDATE();\r\n",
                "    \r\n",
                "    SET @vDESTINO='D_ESCOLA';\r\n",
                "    SET @vACAO='LOAD MERGE D_ESCOLA';\r\n",
                "\t\r\n",
                "BEGIN TRY  \r\n",
                "\r\n",
                "MERGE D_ESCOLA AS DESTINO\r\n",
                "\r\n",
                "USING (\r\n",
                "    SELECT DISTINCT SG_UF_ESC,\r\n",
                "    NO_MUNICIPIO_ESC,    \r\n",
                "    TP_LOCALIZACAO_ESC,\r\n",
                "    CASE\r\n",
                "        WHEN TP_LOCALIZACAO_ESC = '1'\tTHEN 'Urbana'\r\n",
                "        WHEN TP_LOCALIZACAO_ESC = '2'\tTHEN 'Rural'\r\n",
                "    END DS_LOCALIZACAO\r\n",
                "    FROM MICRODADOS_ENEM_2020) AS Origem\r\n",
                "\r\n",
                "ON Destino.DS_UF = Origem.SG_UF_ESC\r\n",
                "\r\n",
                "WHEN MATCHED \r\n",
                "\r\n",
                "THEN \r\n",
                "    UPDATE SET DS_UF = Origem.SG_UF_ESC\r\n",
                "\r\n",
                "WHEN NOT MATCHED \r\n",
                "\r\n",
                "THEN \r\n",
                "    INSERT (DS_UF,DS_MUNICIPIO,TP_LOCALIZACAO,DS_LOCALIZACAO) VALUES (Origem.SG_UF_ESC,Origem.NO_MUNICIPIO_ESC,Origem.TP_LOCALIZACAO_ESC,Origem.DS_LOCALIZACAO);\r\n",
                "\t\r\n",
                "SET @vLINHAS_AFTADAS=@@ROWCOUNT;\r\n",
                "\r\n",
                "--GERANDO LOG\r\n",
                "--ATRIBUINDO VALORES\r\n",
                "SET @vNUMERO_ERRO=ERROR_NUMBER();\r\n",
                "SET @vSERVERIDADE_ERRO=ERROR_SEVERITY();\r\n",
                "SET @vESTADO_ERRO=ERROR_STATE();\r\n",
                "SET @vPROC_ERRO=ERROR_PROCEDURE();\r\n",
                "SET @vLINHA_ERRO=ERROR_LINE() ;\r\n",
                "SET @vMSG_ERRO=ERROR_MESSAGE() ;\r\n",
                "\r\n",
                "\t\t\r\n",
                "\r\n",
                "IF @@TRANCOUNT > 0  \r\n",
                "    COMMIT TRANSACTION;  \r\n",
                "--EXECUTANDO LOG\r\n",
                "--CAPTURANDO LOG DE SUCESSO\r\n",
                "SET @vDATA_FIM= GETDATE();\r\n",
                "EXECUTE PRC_lOG_DW  \r\n",
                "                @vNUMERO_ERRO,\r\n",
                "      \t\t    @vSERVERIDADE_ERRO,\r\n",
                "       \t\t    @vESTADO_ERRO,\r\n",
                "       \t\t    @vPROC_ERRO,\r\n",
                "     \t\t    @vLINHA_ERRO ,\r\n",
                "        \t\t@vMSG_ERRO ,\r\n",
                "        \t\t'SUCESSO',\r\n",
                "        \t\t@VPROCESSO,\r\n",
                "\t\t        @VDATA_INI,\r\n",
                "\t\t        @vDATA_FIM,\r\n",
                "\t\t        @vLINHAS_AFTADAS,\r\n",
                "\t\t        @vACAO,\r\n",
                "\t\t        @vDESTINO;\r\n",
                "\r\n",
                "\r\n",
                "END TRY  \r\n",
                "\r\n",
                "BEGIN CATCH\r\n",
                " \tIF @@TRANCOUNT > 0  \r\n",
                "        ROLLBACK TRANSACTION; \r\n",
                "\r\n",
                "--CAPTURANDO LOG DE ERRO\r\n",
                "SET @vDATA_FIM= GETDATE();\r\n",
                "     \t\tEXECUTE PRC_lOG_DW\r\n",
                "       \t\t  @vNUMERO_ERRO,\r\n",
                "      \t\t    @vSERVERIDADE_ERRO,\r\n",
                "       \t\t    @vESTADO_ERRO,\r\n",
                "       \t\t    @vPROC_ERRO,\r\n",
                "     \t\t    @vLINHA_ERRO ,\r\n",
                "        \t\t@vMSG_ERRO ,\r\n",
                "        \t\t'ERRO',\r\n",
                "        \t\t@VPROCESSO,\r\n",
                "\t\t        @VDATA_INI,\r\n",
                "                @vDATA_FIM,\r\n",
                "\t\t        @vLINHAS_AFTADAS,\r\n",
                "\t\t        @vACAO,\r\n",
                "\t\t        @vDESTINO;\r\n",
                "        \r\n",
                "END CATCH;  "
            ],
            "metadata": {
                "azdata_cell_guid": "50945cfb-ee9f-4087-89a5-286319a27c1d",
                "tags": []
            },
            "outputs": [
                {
                    "output_type": "display_data",
                    "data": {
                        "text/html": "(6992 rows affected)"
                    },
                    "metadata": {}
                },
                {
                    "output_type": "display_data",
                    "data": {
                        "text/html": "(1 row affected)"
                    },
                    "metadata": {}
                },
                {
                    "output_type": "display_data",
                    "data": {
                        "text/html": "Total execution time: 00:00:01.350"
                    },
                    "metadata": {}
                }
            ],
            "execution_count": 21
        },
        {
            "cell_type": "markdown",
            "source": [
                "CARGA REDACAO"
            ],
            "metadata": {
                "azdata_cell_guid": "13103052-03d7-4cce-ac82-396c4f723865"
            },
            "attachments": {}
        },
        {
            "cell_type": "code",
            "source": [
                "BEGIN TRANSACTION;  \r\n",
                "   \tDECLARE @vNUMERO_ERRO int ;\r\n",
                "\tDECLARE @vSERVERIDADE_ERRO int ;\r\n",
                "\tDECLARE @vESTADO_ERRO int ;\r\n",
                "\tDECLARE @vPROC_ERRO nvarchar(255) ;\r\n",
                "\tDECLARE @vLINHA_ERRO int ;\r\n",
                "\tDECLARE @vMSG_ERRO nvarchar(255) ;\r\n",
                "\tDECLARE @vSITUACAO nvarchar(10) ;\r\n",
                "\tDECLARE @vPROCESSO nvarchar(30) ;\r\n",
                "\tDECLARE @vDATA_INI datetime ;\r\n",
                "\tDECLARE @vDATA_FIM datetime ;\r\n",
                "\tDECLARE @vLINHAS_AFTADAS int;\r\n",
                "\tDECLARE @vACAO nvarchar(10);\r\n",
                "\tDECLARE @vDESTINO varchar(30) ;\r\n",
                "\tDECLARE @ACAO NVARCHAR(10);\r\n",
                "    \r\n",
                "\tSET @VPROCESSO= 'CARGA D_REDACAO';\r\n",
                "\tSET @VDATA_INI= GETDATE();\r\n",
                "    \r\n",
                "    SET @vDESTINO='D_REDACAO';\r\n",
                "    SET @vACAO='LOAD MERGE D_REDACAO';\r\n",
                "\t\r\n",
                "BEGIN TRY  \r\n",
                "\r\n",
                "MERGE D_REDACAO AS DESTINO\r\n",
                "\r\n",
                "USING (\r\n",
                "    SELECT DISTINCT TP_STATUS_REDACAO,\r\n",
                "    CASE\r\n",
                "        WHEN TP_STATUS_REDACAO = '1'\tTHEN 'Sem problemas'\r\n",
                "        WHEN TP_STATUS_REDACAO = '2'\tTHEN 'Anulada'\r\n",
                "        WHEN TP_STATUS_REDACAO = '3'\tTHEN 'Cópia Texto Motivador'\r\n",
                "        WHEN TP_STATUS_REDACAO = '4'\tTHEN 'Em Branco'\r\n",
                "        WHEN TP_STATUS_REDACAO = '6'\tTHEN 'Fuga ao tema'\r\n",
                "        WHEN TP_STATUS_REDACAO = '7'\tTHEN 'Não atendimento ao tipo textual'\r\n",
                "        WHEN TP_STATUS_REDACAO = '8'\tTHEN 'Texto insuficiente'\r\n",
                "        WHEN TP_STATUS_REDACAO = '9'\tTHEN 'Parte desconectada'\r\n",
                "        ELSE 'Não Informado'\r\n",
                "    END DS_SITUACAO\r\n",
                "    FROM MICRODADOS_ENEM_2020) AS Origem\r\n",
                "\r\n",
                "ON Destino.ST_REDACAO = Origem.TP_STATUS_REDACAO\r\n",
                "\r\n",
                "WHEN MATCHED \r\n",
                "\r\n",
                "THEN \r\n",
                "    UPDATE SET ST_REDACAO = Origem.TP_STATUS_REDACAO\r\n",
                "\r\n",
                "WHEN NOT MATCHED \r\n",
                "\r\n",
                "THEN \r\n",
                "    INSERT (ST_REDACAO,DS_SITUACAO) VALUES (Origem.TP_STATUS_REDACAO,Origem.DS_SITUACAO);\r\n",
                "\t\r\n",
                "SET @vLINHAS_AFTADAS=@@ROWCOUNT;\r\n",
                "\r\n",
                "--GERANDO LOG\r\n",
                "--ATRIBUINDO VALORES\r\n",
                "SET @vNUMERO_ERRO=ERROR_NUMBER();\r\n",
                "SET @vSERVERIDADE_ERRO=ERROR_SEVERITY();\r\n",
                "SET @vESTADO_ERRO=ERROR_STATE();\r\n",
                "SET @vPROC_ERRO=ERROR_PROCEDURE();\r\n",
                "SET @vLINHA_ERRO=ERROR_LINE() ;\r\n",
                "SET @vMSG_ERRO=ERROR_MESSAGE() ;\r\n",
                "\r\n",
                "\t\t\r\n",
                "\r\n",
                "IF @@TRANCOUNT > 0  \r\n",
                "    COMMIT TRANSACTION;  \r\n",
                "--EXECUTANDO LOG\r\n",
                "--CAPTURANDO LOG DE SUCESSO\r\n",
                "SET @vDATA_FIM= GETDATE();\r\n",
                "EXECUTE PRC_lOG_DW  \r\n",
                "                @vNUMERO_ERRO,\r\n",
                "      \t\t    @vSERVERIDADE_ERRO,\r\n",
                "       \t\t    @vESTADO_ERRO,\r\n",
                "       \t\t    @vPROC_ERRO,\r\n",
                "     \t\t    @vLINHA_ERRO ,\r\n",
                "        \t\t@vMSG_ERRO ,\r\n",
                "        \t\t'SUCESSO',\r\n",
                "        \t\t@VPROCESSO,\r\n",
                "\t\t        @VDATA_INI,\r\n",
                "\t\t        @vDATA_FIM,\r\n",
                "\t\t        @vLINHAS_AFTADAS,\r\n",
                "\t\t        @vACAO,\r\n",
                "\t\t        @vDESTINO;\r\n",
                "\r\n",
                "\r\n",
                "END TRY  \r\n",
                "\r\n",
                "BEGIN CATCH\r\n",
                " \tIF @@TRANCOUNT > 0  \r\n",
                "        ROLLBACK TRANSACTION; \r\n",
                "\r\n",
                "--CAPTURANDO LOG DE ERRO\r\n",
                "SET @vDATA_FIM= GETDATE();\r\n",
                "     \t\tEXECUTE PRC_lOG_DW\r\n",
                "       \t\t  @vNUMERO_ERRO,\r\n",
                "      \t\t    @vSERVERIDADE_ERRO,\r\n",
                "       \t\t    @vESTADO_ERRO,\r\n",
                "       \t\t    @vPROC_ERRO,\r\n",
                "     \t\t    @vLINHA_ERRO ,\r\n",
                "        \t\t@vMSG_ERRO ,\r\n",
                "        \t\t'ERRO',\r\n",
                "        \t\t@VPROCESSO,\r\n",
                "\t\t        @VDATA_INI,\r\n",
                "                @vDATA_FIM,\r\n",
                "\t\t        @vLINHAS_AFTADAS,\r\n",
                "\t\t        @vACAO,\r\n",
                "\t\t        @vDESTINO;\r\n",
                "        \r\n",
                "END CATCH;  "
            ],
            "metadata": {
                "azdata_cell_guid": "a83ca4bf-ca76-4058-8327-4ba82e4cb883",
                "tags": [
                    "hide_input"
                ]
            },
            "outputs": [
                {
                    "output_type": "display_data",
                    "data": {
                        "text/html": "(9 rows affected)"
                    },
                    "metadata": {}
                },
                {
                    "output_type": "display_data",
                    "data": {
                        "text/html": "(1 row affected)"
                    },
                    "metadata": {}
                },
                {
                    "output_type": "display_data",
                    "data": {
                        "text/html": "Total execution time: 00:00:00.260"
                    },
                    "metadata": {}
                }
            ],
            "execution_count": 61
        },
        {
            "cell_type": "markdown",
            "source": [
                "CARGA RESPONSAVEL"
            ],
            "metadata": {
                "azdata_cell_guid": "4c913867-6fab-442b-aa66-634739dfdee2"
            },
            "attachments": {}
        },
        {
            "cell_type": "code",
            "source": [
                "BEGIN TRANSACTION;  \r\n",
                "   \tDECLARE @vNUMERO_ERRO int ;\r\n",
                "\tDECLARE @vSERVERIDADE_ERRO int ;\r\n",
                "\tDECLARE @vESTADO_ERRO int ;\r\n",
                "\tDECLARE @vPROC_ERRO nvarchar(255) ;\r\n",
                "\tDECLARE @vLINHA_ERRO int ;\r\n",
                "\tDECLARE @vMSG_ERRO nvarchar(255) ;\r\n",
                "\tDECLARE @vSITUACAO nvarchar(10) ;\r\n",
                "\tDECLARE @vPROCESSO nvarchar(30) ;\r\n",
                "\tDECLARE @vDATA_INI datetime ;\r\n",
                "\tDECLARE @vDATA_FIM datetime ;\r\n",
                "\tDECLARE @vLINHAS_AFTADAS int;\r\n",
                "\tDECLARE @vACAO nvarchar(10);\r\n",
                "\tDECLARE @vDESTINO varchar(30) ;\r\n",
                "\tDECLARE @ACAO NVARCHAR(10);\r\n",
                "    \r\n",
                "\tSET @VPROCESSO= 'CARGA D_RESPONSAVEL_ESTUDO';\r\n",
                "\tSET @VDATA_INI= GETDATE();\r\n",
                "    \r\n",
                "    SET @vDESTINO='D_RESPONSAVEL_ESTUDO';\r\n",
                "    SET @vACAO='LOAD MERGE D_RESPONSAVEL_ESTUDO';\r\n",
                "\t\r\n",
                "BEGIN TRY  \r\n",
                "\r\n",
                "MERGE D_RESPONSAVEL_ESTUDO AS DESTINO\r\n",
                "\r\n",
                "USING (\r\n",
                "    SELECT DISTINCT Q001,\r\n",
                "    CASE\r\n",
                "        WHEN Q001 = 'A'\tTHEN 'Nunca estudou.'\r\n",
                "        WHEN Q001 = 'B'\tTHEN 'Não completou a 4ª série/5º ano do Ensino Fundamental.'\r\n",
                "        WHEN Q001 = 'C'\tTHEN 'Completou a 4ª série/5º ano, mas não completou a 8ª série/9º ano do Ensino Fundamental.'\r\n",
                "        WHEN Q001 = 'D'\tTHEN 'Completou a 8ª série/9º ano do Ensino Fundamental, mas não completou o Ensino Médio.'\r\n",
                "        WHEN Q001 = 'E'\tTHEN 'Completou o Ensino Médio, mas não completou a Faculdade.'\r\n",
                "        WHEN Q001 = 'F'\tTHEN 'Completou a Faculdade, mas não completou a Pós-graduação.'\r\n",
                "        WHEN Q001 = 'G'\tTHEN 'Completou a Pós-graduação.'\r\n",
                "        WHEN Q001 = 'H'\tTHEN 'Não sei.'\r\n",
                "        ELSE 'Não Informado'\r\n",
                "    END DS_RESPONSAVEL\r\n",
                "    FROM MICRODADOS_ENEM_2020) AS Origem\r\n",
                "\r\n",
                "ON Destino.TP_RESPONSAVEL_ESTUDO = Origem.Q001 \r\n",
                "\r\n",
                "WHEN MATCHED \r\n",
                "\r\n",
                "THEN \r\n",
                "    UPDATE SET TP_RESPONSAVEL_ESTUDO = Origem.Q001\r\n",
                "\r\n",
                "WHEN NOT MATCHED \r\n",
                "\r\n",
                "THEN \r\n",
                "    INSERT (TP_RESPONSAVEL_ESTUDO,DS_RESPONSAVEL) VALUES (Origem.Q001,Origem.DS_RESPONSAVEL);\r\n",
                "\t\r\n",
                "SET @vLINHAS_AFTADAS=@@ROWCOUNT;\r\n",
                "\r\n",
                "--GERANDO LOG\r\n",
                "--ATRIBUINDO VALORES\r\n",
                "SET @vNUMERO_ERRO=ERROR_NUMBER();\r\n",
                "SET @vSERVERIDADE_ERRO=ERROR_SEVERITY();\r\n",
                "SET @vESTADO_ERRO=ERROR_STATE();\r\n",
                "SET @vPROC_ERRO=ERROR_PROCEDURE();\r\n",
                "SET @vLINHA_ERRO=ERROR_LINE() ;\r\n",
                "SET @vMSG_ERRO=ERROR_MESSAGE() ;\r\n",
                "\r\n",
                "\t\t\r\n",
                "\r\n",
                "IF @@TRANCOUNT > 0  \r\n",
                "    COMMIT TRANSACTION;  \r\n",
                "--EXECUTANDO LOG\r\n",
                "--CAPTURANDO LOG DE SUCESSO\r\n",
                "SET @vDATA_FIM= GETDATE();\r\n",
                "EXECUTE PRC_lOG_DW  \r\n",
                "                @vNUMERO_ERRO,\r\n",
                "      \t\t    @vSERVERIDADE_ERRO,\r\n",
                "       \t\t    @vESTADO_ERRO,\r\n",
                "       \t\t    @vPROC_ERRO,\r\n",
                "     \t\t    @vLINHA_ERRO ,\r\n",
                "        \t\t@vMSG_ERRO ,\r\n",
                "        \t\t'SUCESSO',\r\n",
                "        \t\t@VPROCESSO,\r\n",
                "\t\t        @VDATA_INI,\r\n",
                "\t\t        @vDATA_FIM,\r\n",
                "\t\t        @vLINHAS_AFTADAS,\r\n",
                "\t\t        @vACAO,\r\n",
                "\t\t        @vDESTINO;\r\n",
                "\r\n",
                "\r\n",
                "END TRY  \r\n",
                "\r\n",
                "BEGIN CATCH\r\n",
                " \tIF @@TRANCOUNT > 0  \r\n",
                "        ROLLBACK TRANSACTION; \r\n",
                "\r\n",
                "--CAPTURANDO LOG DE ERRO\r\n",
                "SET @vDATA_FIM= GETDATE();\r\n",
                "     \t\tEXECUTE PRC_lOG_DW\r\n",
                "       \t\t  @vNUMERO_ERRO,\r\n",
                "      \t\t    @vSERVERIDADE_ERRO,\r\n",
                "       \t\t    @vESTADO_ERRO,\r\n",
                "       \t\t    @vPROC_ERRO,\r\n",
                "     \t\t    @vLINHA_ERRO ,\r\n",
                "        \t\t@vMSG_ERRO ,\r\n",
                "        \t\t'ERRO',\r\n",
                "        \t\t@VPROCESSO,\r\n",
                "\t\t        @VDATA_INI,\r\n",
                "                @vDATA_FIM,\r\n",
                "\t\t        @vLINHAS_AFTADAS,\r\n",
                "\t\t        @vACAO,\r\n",
                "\t\t        @vDESTINO;\r\n",
                "        \r\n",
                "END CATCH;  "
            ],
            "metadata": {
                "azdata_cell_guid": "4c458244-bcd9-43e3-b834-e3ea29b7b037",
                "tags": [
                    "hide_input"
                ]
            },
            "outputs": [
                {
                    "output_type": "display_data",
                    "data": {
                        "text/html": "(9 rows affected)"
                    },
                    "metadata": {}
                },
                {
                    "output_type": "display_data",
                    "data": {
                        "text/html": "(1 row affected)"
                    },
                    "metadata": {}
                },
                {
                    "output_type": "display_data",
                    "data": {
                        "text/html": "Total execution time: 00:00:00.378"
                    },
                    "metadata": {}
                }
            ],
            "execution_count": 65
        },
        {
            "cell_type": "markdown",
            "source": [
                "CARGA RESPONSAVEL GRUPO"
            ],
            "metadata": {
                "azdata_cell_guid": "c4599971-0bfb-42d0-b719-4dcaf2339faa"
            },
            "attachments": {}
        },
        {
            "cell_type": "code",
            "source": [
                "BEGIN TRANSACTION;  \r\n",
                "   \tDECLARE @vNUMERO_ERRO int ;\r\n",
                "\tDECLARE @vSERVERIDADE_ERRO int ;\r\n",
                "\tDECLARE @vESTADO_ERRO int ;\r\n",
                "\tDECLARE @vPROC_ERRO nvarchar(255) ;\r\n",
                "\tDECLARE @vLINHA_ERRO int ;\r\n",
                "\tDECLARE @vMSG_ERRO nvarchar(255) ;\r\n",
                "\tDECLARE @vSITUACAO nvarchar(10) ;\r\n",
                "\tDECLARE @vPROCESSO nvarchar(30) ;\r\n",
                "\tDECLARE @vDATA_INI datetime ;\r\n",
                "\tDECLARE @vDATA_FIM datetime ;\r\n",
                "\tDECLARE @vLINHAS_AFTADAS int;\r\n",
                "\tDECLARE @vACAO nvarchar(10);\r\n",
                "\tDECLARE @vDESTINO varchar(30) ;\r\n",
                "\tDECLARE @ACAO NVARCHAR(10);\r\n",
                "    \r\n",
                "\tSET @VPROCESSO= 'CARGA D_RESPONSAVEL_GRUPO';\r\n",
                "\tSET @VDATA_INI= GETDATE();\r\n",
                "    \r\n",
                "    SET @vDESTINO='D_RESPONSAVEL_GRUPO';\r\n",
                "    SET @vACAO='LOAD MERGE D_RESPONSAVEL_GRUPO';\r\n",
                "\t\r\n",
                "BEGIN TRY  \r\n",
                "\r\n",
                "MERGE D_RESPONSAVEL_GRUPO AS DESTINO\r\n",
                "\r\n",
                "USING (\r\n",
                "    SELECT DISTINCT Q003,\r\n",
                "    CASE\r\n",
                "        WHEN Q003 = 'A'\tTHEN 'Grupo 1: Lavrador, agricultor sem empregados, bóia fria, criador de animais (gado, porcos, galinhas, ovelhas, cavalos etc.), apicultor, pescador, lenhador, seringueiro, extrativista.'\r\n",
                "        WHEN Q003 = 'B'\tTHEN 'Grupo 2: Diarista, empregado doméstico, cuidador de idosos, babá, cozinheiro (em casas particulares), motorista particular, jardineiro, faxineiro de empresas e prédios, vigilante, porteiro, carteiro, office-boy, vendedor, caixa, atendente de loja, auxiliar administrativo, recepcionista, servente de pedreiro, repositor de mercadoria.'\r\n",
                "        WHEN Q003 = 'C'\tTHEN 'Grupo 3: Padeiro, cozinheiro industrial ou em restaurantes, sapateiro, costureiro, joalheiro, torneiro mecânico, operador de máquinas, soldador, operário de fábrica, trabalhador da mineração, pedreiro, pintor, eletricista, encanador, motorista, caminhoneiro, taxista.'\r\n",
                "        WHEN Q003 = 'D'\tTHEN 'Grupo 4: Professor (de ensino fundamental ou médio, idioma, música, artes etc.), técnico (de enfermagem, contabilidade, eletrônica etc.), policial, militar de baixa patente (soldado, cabo, sargento), corretor de imóveis, supervisor, gerente, mestre de obras, pastor, microempresário (proprietário de empresa com menos de 10 empregados), pequeno comerciante, pequeno proprietário de terras, trabalhador autônomo ou por conta própria.'\r\n",
                "        WHEN Q003 = 'E'\tTHEN 'Grupo 5: Médico, engenheiro, dentista, psicólogo, economista, advogado, juiz, promotor, defensor, delegado, tenente, capitão, coronel, professor universitário, diretor em empresas públicas ou privadas, político, proprietário de empresas com mais de 10 empregados.'\r\n",
                "        WHEN Q003 = 'F'\tTHEN 'Não sei.'\r\n",
                "        ELSE 'Não Informado'\r\n",
                "    END DS_RESPONSAVEL_GRUPO\r\n",
                "    FROM MICRODADOS_ENEM_2020) AS Origem\r\n",
                "\r\n",
                "ON Destino.TP_RESPONSAVEL_GRUPO = Origem.Q003\r\n",
                "\r\n",
                "WHEN MATCHED \r\n",
                "\r\n",
                "THEN \r\n",
                "    UPDATE SET TP_RESPONSAVEL_GRUPO = Origem.Q003\r\n",
                "\r\n",
                "WHEN NOT MATCHED \r\n",
                "\r\n",
                "THEN \r\n",
                "    INSERT (TP_RESPONSAVEL_GRUPO,DS_RESPONSAVEL_GRUPO) VALUES (Origem.Q003,Origem.DS_RESPONSAVEL_GRUPO);\r\n",
                "\t\r\n",
                "SET @vLINHAS_AFTADAS=@@ROWCOUNT;\r\n",
                "\r\n",
                "--GERANDO LOG\r\n",
                "--ATRIBUINDO VALORES\r\n",
                "SET @vNUMERO_ERRO=ERROR_NUMBER();\r\n",
                "SET @vSERVERIDADE_ERRO=ERROR_SEVERITY();\r\n",
                "SET @vESTADO_ERRO=ERROR_STATE();\r\n",
                "SET @vPROC_ERRO=ERROR_PROCEDURE();\r\n",
                "SET @vLINHA_ERRO=ERROR_LINE() ;\r\n",
                "SET @vMSG_ERRO=ERROR_MESSAGE() ;\r\n",
                "\r\n",
                "\t\t\r\n",
                "\r\n",
                "IF @@TRANCOUNT > 0  \r\n",
                "    COMMIT TRANSACTION;  \r\n",
                "--EXECUTANDO LOG\r\n",
                "--CAPTURANDO LOG DE SUCESSO\r\n",
                "SET @vDATA_FIM= GETDATE();\r\n",
                "EXECUTE PRC_lOG_DW  \r\n",
                "                @vNUMERO_ERRO,\r\n",
                "      \t\t    @vSERVERIDADE_ERRO,\r\n",
                "       \t\t    @vESTADO_ERRO,\r\n",
                "       \t\t    @vPROC_ERRO,\r\n",
                "     \t\t    @vLINHA_ERRO ,\r\n",
                "        \t\t@vMSG_ERRO ,\r\n",
                "        \t\t'SUCESSO',\r\n",
                "        \t\t@VPROCESSO,\r\n",
                "\t\t        @VDATA_INI,\r\n",
                "\t\t        @vDATA_FIM,\r\n",
                "\t\t        @vLINHAS_AFTADAS,\r\n",
                "\t\t        @vACAO,\r\n",
                "\t\t        @vDESTINO;\r\n",
                "\r\n",
                "\r\n",
                "END TRY  \r\n",
                "\r\n",
                "BEGIN CATCH\r\n",
                " \tIF @@TRANCOUNT > 0  \r\n",
                "        ROLLBACK TRANSACTION; \r\n",
                "\r\n",
                "--CAPTURANDO LOG DE ERRO\r\n",
                "SET @vDATA_FIM= GETDATE();\r\n",
                "     \t\tEXECUTE PRC_lOG_DW\r\n",
                "       \t\t  @vNUMERO_ERRO,\r\n",
                "      \t\t    @vSERVERIDADE_ERRO,\r\n",
                "       \t\t    @vESTADO_ERRO,\r\n",
                "       \t\t    @vPROC_ERRO,\r\n",
                "     \t\t    @vLINHA_ERRO ,\r\n",
                "        \t\t@vMSG_ERRO ,\r\n",
                "        \t\t'ERRO',\r\n",
                "        \t\t@VPROCESSO,\r\n",
                "\t\t        @VDATA_INI,\r\n",
                "                @vDATA_FIM,\r\n",
                "\t\t        @vLINHAS_AFTADAS,\r\n",
                "\t\t        @vACAO,\r\n",
                "\t\t        @vDESTINO;\r\n",
                "        \r\n",
                "END CATCH;  "
            ],
            "metadata": {
                "azdata_cell_guid": "66f6d0e6-95d8-4088-80c1-ba5274dab12a",
                "tags": [
                    "hide_input"
                ]
            },
            "outputs": [
                {
                    "output_type": "display_data",
                    "data": {
                        "text/html": "(7 rows affected)"
                    },
                    "metadata": {}
                },
                {
                    "output_type": "display_data",
                    "data": {
                        "text/html": "(1 row affected)"
                    },
                    "metadata": {}
                },
                {
                    "output_type": "display_data",
                    "data": {
                        "text/html": "Total execution time: 00:00:00.347"
                    },
                    "metadata": {}
                }
            ],
            "execution_count": 73
        },
        {
            "cell_type": "markdown",
            "source": [
                "CARGA RENDA"
            ],
            "metadata": {
                "azdata_cell_guid": "c100cd8b-6986-4224-9d9e-66c7946bf4c0"
            },
            "attachments": {}
        },
        {
            "cell_type": "code",
            "source": [
                "BEGIN TRANSACTION;  \r\n",
                "   \tDECLARE @vNUMERO_ERRO int ;\r\n",
                "\tDECLARE @vSERVERIDADE_ERRO int ;\r\n",
                "\tDECLARE @vESTADO_ERRO int ;\r\n",
                "\tDECLARE @vPROC_ERRO nvarchar(255) ;\r\n",
                "\tDECLARE @vLINHA_ERRO int ;\r\n",
                "\tDECLARE @vMSG_ERRO nvarchar(255) ;\r\n",
                "\tDECLARE @vSITUACAO nvarchar(10) ;\r\n",
                "\tDECLARE @vPROCESSO nvarchar(30) ;\r\n",
                "\tDECLARE @vDATA_INI datetime ;\r\n",
                "\tDECLARE @vDATA_FIM datetime ;\r\n",
                "\tDECLARE @vLINHAS_AFTADAS int;\r\n",
                "\tDECLARE @vACAO nvarchar(10);\r\n",
                "\tDECLARE @vDESTINO varchar(30) ;\r\n",
                "\tDECLARE @ACAO NVARCHAR(10);\r\n",
                "    \r\n",
                "\tSET @VPROCESSO= 'CARGA D_RENDA_MENSAL';\r\n",
                "\tSET @VDATA_INI= GETDATE();\r\n",
                "    \r\n",
                "    SET @vDESTINO='D_RENDA_MENSAL';\r\n",
                "    SET @vACAO='LOAD MERGE D_RENDA_MENSAL';\r\n",
                "\t\r\n",
                "BEGIN TRY  \r\n",
                "\r\n",
                "MERGE D_RENDA_MENSAL AS DESTINO\r\n",
                "\r\n",
                "USING (\r\n",
                "    SELECT DISTINCT Q006,\r\n",
                "    CASE\r\n",
                "        WHEN Q006 = 'A'\tTHEN 'Nenhuma Renda'\r\n",
                "        WHEN Q006 = 'B'\tTHEN 'Até R$ 1.045,00'\r\n",
                "        WHEN Q006 = 'C'\tTHEN 'De R$ 1.045,01 até R$ 1.567,50'\r\n",
                "        WHEN Q006 = 'D'\tTHEN 'De R$ 1.567,51 até R$ 2.090,00'\r\n",
                "        WHEN Q006 = 'E'\tTHEN 'De R$ 2.090,01 até R$ 2.612,50'\r\n",
                "        WHEN Q006 = 'F'\tTHEN 'De R$ 2.612,51 até R$ 3.135,00'\r\n",
                "        WHEN Q006 = 'G'\tTHEN 'De R$ 3.135,01 até R$ 4.180,00'\r\n",
                "        WHEN Q006 = 'H'\tTHEN 'De R$ 4.180,01 até R$ 5.225,00'\r\n",
                "        WHEN Q006 = 'I'\tTHEN 'De R$ 5.225,01 até R$ 6.270,00'\r\n",
                "        WHEN Q006 = 'J'\tTHEN 'De R$ 6.270,01 até R$ 7.315,00'\r\n",
                "        WHEN Q006 = 'K'\tTHEN 'De R$ 7.315,01 até R$ 8.360,00'\r\n",
                "        WHEN Q006 = 'L'\tTHEN 'De R$ 8.360,01 até R$ 9.405,00'\r\n",
                "        WHEN Q006 = 'M'\tTHEN 'De R$ 9.405,01 até R$ 10.450,00'\r\n",
                "        WHEN Q006 = 'N'\tTHEN 'De R$ 10.450,01 até R$ 12.540,00'\r\n",
                "        WHEN Q006 = 'O'\tTHEN 'De R$ 12.540,01 até R$ 15.675,00'\r\n",
                "        WHEN Q006 = 'P'\tTHEN 'De R$ 15.675,01 até R$ 20.900,00'\r\n",
                "        WHEN Q006 = 'Q'\tTHEN 'Acima de R$ 20.900,00'\r\n",
                "        ELSE 'Não Informado'\r\n",
                "    END DS_RENDA_MENSAL\r\n",
                "    FROM MICRODADOS_ENEM_2020) AS Origem\r\n",
                "\r\n",
                "ON Destino.TP_RENDA_MENSAL = Origem.Q006\r\n",
                "\r\n",
                "WHEN MATCHED \r\n",
                "\r\n",
                "THEN \r\n",
                "    UPDATE SET TP_RENDA_MENSAL = Origem.Q006\r\n",
                "\r\n",
                "WHEN NOT MATCHED \r\n",
                "\r\n",
                "THEN \r\n",
                "    INSERT (TP_RENDA_MENSAL,DS_RENDA_MENSAL) VALUES (Origem.Q006,Origem.DS_RENDA_MENSAL);\r\n",
                "\t\r\n",
                "SET @vLINHAS_AFTADAS=@@ROWCOUNT;\r\n",
                "\r\n",
                "--GERANDO LOG\r\n",
                "--ATRIBUINDO VALORES\r\n",
                "SET @vNUMERO_ERRO=ERROR_NUMBER();\r\n",
                "SET @vSERVERIDADE_ERRO=ERROR_SEVERITY();\r\n",
                "SET @vESTADO_ERRO=ERROR_STATE();\r\n",
                "SET @vPROC_ERRO=ERROR_PROCEDURE();\r\n",
                "SET @vLINHA_ERRO=ERROR_LINE() ;\r\n",
                "SET @vMSG_ERRO=ERROR_MESSAGE() ;\r\n",
                "\r\n",
                "\t\t\r\n",
                "\r\n",
                "IF @@TRANCOUNT > 0  \r\n",
                "    COMMIT TRANSACTION;  \r\n",
                "--EXECUTANDO LOG\r\n",
                "--CAPTURANDO LOG DE SUCESSO\r\n",
                "SET @vDATA_FIM= GETDATE();\r\n",
                "EXECUTE PRC_lOG_DW  \r\n",
                "                @vNUMERO_ERRO,\r\n",
                "      \t\t    @vSERVERIDADE_ERRO,\r\n",
                "       \t\t    @vESTADO_ERRO,\r\n",
                "       \t\t    @vPROC_ERRO,\r\n",
                "     \t\t    @vLINHA_ERRO ,\r\n",
                "        \t\t@vMSG_ERRO ,\r\n",
                "        \t\t'SUCESSO',\r\n",
                "        \t\t@VPROCESSO,\r\n",
                "\t\t        @VDATA_INI,\r\n",
                "\t\t        @vDATA_FIM,\r\n",
                "\t\t        @vLINHAS_AFTADAS,\r\n",
                "\t\t        @vACAO,\r\n",
                "\t\t        @vDESTINO;\r\n",
                "\r\n",
                "\r\n",
                "END TRY  \r\n",
                "\r\n",
                "BEGIN CATCH\r\n",
                " \tIF @@TRANCOUNT > 0  \r\n",
                "        ROLLBACK TRANSACTION; \r\n",
                "\r\n",
                "--CAPTURANDO LOG DE ERRO\r\n",
                "SET @vDATA_FIM= GETDATE();\r\n",
                "     \t\tEXECUTE PRC_lOG_DW\r\n",
                "       \t\t  @vNUMERO_ERRO,\r\n",
                "      \t\t    @vSERVERIDADE_ERRO,\r\n",
                "       \t\t    @vESTADO_ERRO,\r\n",
                "       \t\t    @vPROC_ERRO,\r\n",
                "     \t\t    @vLINHA_ERRO ,\r\n",
                "        \t\t@vMSG_ERRO ,\r\n",
                "        \t\t'ERRO',\r\n",
                "        \t\t@VPROCESSO,\r\n",
                "\t\t        @VDATA_INI,\r\n",
                "                @vDATA_FIM,\r\n",
                "\t\t        @vLINHAS_AFTADAS,\r\n",
                "\t\t        @vACAO,\r\n",
                "\t\t        @vDESTINO;\r\n",
                "        \r\n",
                "END CATCH;  "
            ],
            "metadata": {
                "azdata_cell_guid": "f0d21546-234e-4204-b8dc-857fc9d63c15",
                "tags": [
                    "hide_input"
                ]
            },
            "outputs": [
                {
                    "output_type": "display_data",
                    "data": {
                        "text/html": "(18 rows affected)"
                    },
                    "metadata": {}
                },
                {
                    "output_type": "display_data",
                    "data": {
                        "text/html": "(1 row affected)"
                    },
                    "metadata": {}
                },
                {
                    "output_type": "display_data",
                    "data": {
                        "text/html": "Total execution time: 00:00:00.377"
                    },
                    "metadata": {}
                }
            ],
            "execution_count": 77
        },
        {
            "cell_type": "markdown",
            "source": [
                "CARGA FATO"
            ],
            "metadata": {
                "azdata_cell_guid": "65cf18f4-7010-48e5-aa43-c46e06042ded"
            },
            "attachments": {}
        },
        {
            "cell_type": "code",
            "source": [
                "USE STG_ENEM\r\n",
                "GO\r\n",
                "BEGIN TRANSACTION;  \r\n",
                "   \tDECLARE @vNUMERO_ERRO int ;\r\n",
                "\tDECLARE @vSERVERIDADE_ERRO int ;\r\n",
                "\tDECLARE @vESTADO_ERRO int ;\r\n",
                "\tDECLARE @vPROC_ERRO nvarchar(255) ;\r\n",
                "\tDECLARE @vLINHA_ERRO int ;\r\n",
                "\tDECLARE @vMSG_ERRO nvarchar(255) ;\r\n",
                "\tDECLARE @vSITUACAO nvarchar(10) ;\r\n",
                "\tDECLARE @vPROCESSO nvarchar(30) ;\r\n",
                "\tDECLARE @vDATA_INI datetime ;\r\n",
                "\tDECLARE @vDATA_FIM datetime ;\r\n",
                "\tDECLARE @vLINHAS_AFTADAS int;\r\n",
                "\tDECLARE @vACAO nvarchar(10);\r\n",
                "\tDECLARE @vDESTINO varchar(30) ;\r\n",
                "\tDECLARE @ACAO NVARCHAR(10);\r\n",
                "    \r\n",
                "\tSET @VPROCESSO= 'CARGA F_ENEM';\r\n",
                "\tSET @VDATA_INI= GETDATE();\r\n",
                "    \r\n",
                "    SET @vDESTINO='F_ENEM';\r\n",
                "    SET @vACAO='LOAD MERGE F_ENEM';\r\n",
                "\t\r\n",
                "BEGIN TRY  \r\n",
                "\r\n",
                "MERGE F_ENEM AS DESTINO\r\n",
                "\r\n",
                "USING (\r\n",
                "    SELECT   \r\n",
                "      NU_INSCRICAO ,\r\n",
                "      TP_FAIXA_ETARIA,\r\n",
                "      TP_SEXO,\r\n",
                "      TP_ESTADO_CIVIL,\r\n",
                "      TP_COR_RACA,\r\n",
                "      TP_NACIONALIDADE,\r\n",
                "      TP_ST_CONCLUSAO,\r\n",
                "      TP_ANO_CONCLUIU,\r\n",
                "      TP_ESCOLA,\r\n",
                "      SG_UF_ESC,\r\n",
                "      NO_MUNICIPIO_ESC,\r\n",
                "      TP_LOCALIZACAO_ESC,\r\n",
                "      TP_STATUS_REDACAO,\r\n",
                "\t  CASE\r\n",
                "\t\tWHEN NU_NOTA_REDACAO = '' THEN NULL\r\n",
                "\t\tELSE CAST(NU_NOTA_REDACAO AS NUMERIC(9,0))\r\n",
                "\t  END NU_NOTA_REDACAO,\r\n",
                "      Q001,\r\n",
                "      Q002,\r\n",
                "      Q003,\r\n",
                "      Q004,\r\n",
                "      Q006,\r\n",
                "\t  CASE \r\n",
                "\t\tWHEN (TP_PRESENCA_CN = 0 OR TP_PRESENCA_CH = 0 OR TP_PRESENCA_LC = 0 OR TP_PRESENCA_MT = 0) THEN 'AUSENTE'\r\n",
                "\t\tWHEN (TP_PRESENCA_CN = 1 OR TP_PRESENCA_CH = 1 OR TP_PRESENCA_LC = 1 OR TP_PRESENCA_MT = 1) THEN 'PRESENTE'\r\n",
                "\t\tELSE 'ELIMINADO'\r\n",
                "\t  END TP_PRESENCA,\r\n",
                "\t  CASE\r\n",
                "\t\tWHEN NU_NOTA_MT = '' THEN NULL\r\n",
                "\t\tELSE CAST(NU_NOTA_MT AS NUMERIC(9,0))\r\n",
                "\t  END NU_NOTA_MT,\r\n",
                "\t  CASE\r\n",
                "\t\tWHEN NU_NOTA_CN = '' THEN NULL\r\n",
                "\t\tELSE CAST(NU_NOTA_CN AS NUMERIC(9,0))\r\n",
                "\t  END NU_NOTA_CN,\r\n",
                "\t  CASE\r\n",
                "\t\tWHEN NU_NOTA_LC = '' THEN NULL\r\n",
                "\t\tELSE CAST(NU_NOTA_LC AS NUMERIC(9,0))\r\n",
                "\t  END NU_NOTA_LC,\r\n",
                "\t  CASE\r\n",
                "\t\tWHEN NU_NOTA_CH = '' THEN NULL\r\n",
                "\t\tELSE CAST(NU_NOTA_CH AS NUMERIC(9,0))\r\n",
                "\t  END NU_NOTA_CH,\t  \r\n",
                "\t  CASE \r\n",
                "\t\tWHEN IN_TREINEIRO = 1 THEN 'SIM'\r\n",
                "\t\tELSE 'NÃO'\r\n",
                "\t  END IN_TREINEIRO,\r\n",
                "      TP_DEPENDENCIA_ADM_ESC,\r\n",
                "      CASE \r\n",
                "\t\tWHEN TP_PRESENCA_CN = 0 THEN 'AUSENTE'\r\n",
                "\t\tWHEN TP_PRESENCA_CN = 1 THEN 'PRESENTE'\r\n",
                "\t\tELSE 'ELIMINADO'\r\n",
                "\t  END TP_PRESENCA_CN,\r\n",
                "      CASE \r\n",
                "\t\tWHEN TP_PRESENCA_CH = 0 THEN 'AUSENTE'\r\n",
                "\t\tWHEN TP_PRESENCA_CH = 1 THEN 'PRESENTE'\r\n",
                "\t\tELSE 'ELIMINADO'\r\n",
                "\t  END TP_PRESENCA_CH,\r\n",
                "      CASE \r\n",
                "\t\tWHEN TP_PRESENCA_LC = 0 THEN 'AUSENTE'\r\n",
                "\t\tWHEN TP_PRESENCA_LC = 1 THEN 'PRESENTE'\r\n",
                "\t\tELSE 'ELIMINADO'\r\n",
                "\t  END TP_PRESENCA_LC,\r\n",
                "      CASE \r\n",
                "\t\tWHEN TP_PRESENCA_MT = 0 THEN 'AUSENTE'\r\n",
                "\t\tWHEN TP_PRESENCA_MT = 1 THEN 'PRESENTE'\r\n",
                "\t\tELSE 'ELIMINADO'\r\n",
                "\t  END TP_PRESENCA_MT      \t\t\r\n",
                "  FROM [dbo].MICRODADOS_ENEM_2020) AS Origem\r\n",
                "\r\n",
                "ON Destino.NU_INSCRICAO = Origem.NU_INSCRICAO\r\n",
                "\r\n",
                "WHEN MATCHED \r\n",
                "\r\n",
                "THEN \r\n",
                "    UPDATE SET TP_FAIXA_ETARIA=Origem.TP_FAIXA_ETARIA,\r\n",
                "                TP_SEXO=Origem.TP_SEXO,\r\n",
                "                TP_ESTADO_CIVIL=Origem.TP_ESTADO_CIVIL,\r\n",
                "                TP_COR_RACA=Origem.TP_COR_RACA,\r\n",
                "                TP_NACIONALIDADE=Origem.TP_NACIONALIDADE,\r\n",
                "                TP_ST_CONCLUSAO=Origem.TP_ST_CONCLUSAO,\r\n",
                "                TP_ANO_CONCLUIU=Origem.TP_ANO_CONCLUIU,\r\n",
                "                TP_ESCOLA=Origem.TP_ESCOLA,\r\n",
                "                SG_UF_ESC=Origem.SG_UF_ESC,\r\n",
                "                NO_MUNICIPIO_ESC=Origem.NO_MUNICIPIO_ESC,\r\n",
                "                TP_LOCALIZACAO=Origem.TP_LOCALIZACAO_ESC,\r\n",
                "                TP_STATUS_REDACAO=Origem.TP_STATUS_REDACAO,\r\n",
                "                NU_NOTA_REDACAO=Origem.NU_NOTA_REDACAO,\r\n",
                "                RESPONSAVEL_PAI=Origem.Q001,\r\n",
                "                RESPONSAVEL_MAE=Origem.Q002,\r\n",
                "                RESPONSAVEL_PAI_GRUPO=Origem.Q003,\r\n",
                "                RESPONSAVEL_MAE_GRUPO=Origem.Q004,\r\n",
                "                RENDA_MENSAL=Origem.Q006,\r\n",
                "                TP_PRESENCA= Origem.TP_PRESENCA,\r\n",
                "                NU_NOTA_MT=Origem.NU_NOTA_MT,\r\n",
                "                NU_NOTA_CN=Origem.NU_NOTA_CN,\r\n",
                "                NU_NOTA_LC=Origem.NU_NOTA_LC,\r\n",
                "                NU_NOTA_CH=Origem.NU_NOTA_CH,\r\n",
                "                IN_TREINEIRO=Origem.IN_TREINEIRO,\r\n",
                "                TP_DEPENDENCIA=Origem.TP_DEPENDENCIA_ADM_ESC,\r\n",
                "                TP_PRESENCA_CN=Origem.TP_PRESENCA_CN,\r\n",
                "                TP_PRESENCA_CH=Origem.TP_PRESENCA_CH,\r\n",
                "                TP_PRESENCA_LC=Origem.TP_PRESENCA_LC,\r\n",
                "                TP_PRESENCA_MT=Origem.TP_PRESENCA_MT\r\n",
                "\r\n",
                "WHEN NOT MATCHED \r\n",
                "\r\n",
                "THEN \r\n",
                "    INSERT (NU_INSCRICAO,\r\n",
                "            TP_FAIXA_ETARIA,\r\n",
                "            TP_SEXO,\r\n",
                "            TP_ESTADO_CIVIL,\r\n",
                "            TP_COR_RACA,\r\n",
                "            TP_NACIONALIDADE,\r\n",
                "            TP_ST_CONCLUSAO,\r\n",
                "            TP_ANO_CONCLUIU,\r\n",
                "            TP_ESCOLA,\r\n",
                "            SG_UF_ESC,\r\n",
                "            NO_MUNICIPIO_ESC,\r\n",
                "            TP_LOCALIZACAO,\r\n",
                "            TP_STATUS_REDACAO,\r\n",
                "            NU_NOTA_REDACAO,\r\n",
                "            RESPONSAVEL_PAI,\r\n",
                "            RESPONSAVEL_MAE,\r\n",
                "            RESPONSAVEL_PAI_GRUPO,\r\n",
                "            RESPONSAVEL_MAE_GRUPO,\r\n",
                "            RENDA_MENSAL,\r\n",
                "            TP_PRESENCA,\r\n",
                "            NU_NOTA_MT,\r\n",
                "            NU_NOTA_CN,\r\n",
                "            NU_NOTA_LC,\r\n",
                "            NU_NOTA_CH,\r\n",
                "            IN_TREINEIRO,\r\n",
                "            TP_DEPENDENCIA,\r\n",
                "            TP_PRESENCA_CN,\r\n",
                "            TP_PRESENCA_CH,\r\n",
                "            TP_PRESENCA_LC,\r\n",
                "            TP_PRESENCA_MT) \r\n",
                "    VALUES (Origem.NU_INSCRICAO,\r\n",
                "\t\t\tOrigem.TP_FAIXA_ETARIA,\r\n",
                "            Origem.TP_SEXO,\r\n",
                "            Origem.TP_ESTADO_CIVIL,\r\n",
                "            Origem.TP_COR_RACA,\r\n",
                "            Origem.TP_NACIONALIDADE,\r\n",
                "            Origem.TP_ST_CONCLUSAO,\r\n",
                "            Origem.TP_ANO_CONCLUIU,\r\n",
                "            Origem.TP_ESCOLA,\r\n",
                "            Origem.SG_UF_ESC,\r\n",
                "            Origem.NO_MUNICIPIO_ESC,\r\n",
                "            Origem.TP_LOCALIZACAO_ESC,\r\n",
                "            Origem.TP_STATUS_REDACAO,\r\n",
                "            Origem.NU_NOTA_REDACAO,\r\n",
                "            Origem.Q001,\r\n",
                "            Origem.Q002,\r\n",
                "            Origem.Q003,\r\n",
                "            Origem.Q004,\r\n",
                "            Origem.Q006,\r\n",
                "            Origem.TP_PRESENCA,\r\n",
                "            Origem.NU_NOTA_MT,\r\n",
                "            Origem.NU_NOTA_CN,\r\n",
                "            Origem.NU_NOTA_LC,\r\n",
                "            Origem.NU_NOTA_CH,\r\n",
                "            Origem.IN_TREINEIRO,\r\n",
                "            Origem.TP_DEPENDENCIA_ADM_ESC,\r\n",
                "            Origem.TP_PRESENCA_CN, \r\n",
                "            Origem.TP_PRESENCA_CH, \r\n",
                "            Origem.TP_PRESENCA_LC,\r\n",
                "            Origem.TP_PRESENCA_MT);\r\n",
                "\r\n",
                "\r\n",
                "\t\r\n",
                "SET @vLINHAS_AFTADAS=@@ROWCOUNT;\r\n",
                "\r\n",
                "--GERANDO LOG\r\n",
                "--ATRIBUINDO VALORES\r\n",
                "SET @vNUMERO_ERRO=ERROR_NUMBER();\r\n",
                "SET @vSERVERIDADE_ERRO=ERROR_SEVERITY();\r\n",
                "SET @vESTADO_ERRO=ERROR_STATE();\r\n",
                "SET @vPROC_ERRO=ERROR_PROCEDURE();\r\n",
                "SET @vLINHA_ERRO=ERROR_LINE() ;\r\n",
                "SET @vMSG_ERRO=ERROR_MESSAGE() ;\r\n",
                "\r\n",
                "\t\t\r\n",
                "\r\n",
                "IF @@TRANCOUNT > 0  \r\n",
                "    COMMIT TRANSACTION;  \r\n",
                "--EXECUTANDO LOG\r\n",
                "--CAPTURANDO LOG DE SUCESSO\r\n",
                "SET @vDATA_FIM= GETDATE();\r\n",
                "EXECUTE PRC_lOG_DW  \r\n",
                "                @vNUMERO_ERRO,\r\n",
                "      \t\t    @vSERVERIDADE_ERRO,\r\n",
                "       \t\t    @vESTADO_ERRO,\r\n",
                "       \t\t    @vPROC_ERRO,\r\n",
                "     \t\t    @vLINHA_ERRO ,\r\n",
                "        \t\t@vMSG_ERRO ,\r\n",
                "        \t\t'SUCESSO',\r\n",
                "        \t\t@VPROCESSO,\r\n",
                "\t\t        @VDATA_INI,\r\n",
                "\t\t        @vDATA_FIM,\r\n",
                "\t\t        @vLINHAS_AFTADAS,\r\n",
                "\t\t        @vACAO,\r\n",
                "\t\t        @vDESTINO;\r\n",
                "\r\n",
                "\r\n",
                "END TRY  \r\n",
                "\r\n",
                "BEGIN CATCH\r\n",
                " \tIF @@TRANCOUNT > 0  \r\n",
                "        ROLLBACK TRANSACTION; \r\n",
                "\r\n",
                "--CAPTURANDO LOG DE ERRO\r\n",
                "SET @vDATA_FIM= GETDATE();\r\n",
                "     \t\tEXECUTE PRC_lOG_DW\r\n",
                "       \t\t  @vNUMERO_ERRO,\r\n",
                "      \t\t    @vSERVERIDADE_ERRO,\r\n",
                "       \t\t    @vESTADO_ERRO,\r\n",
                "       \t\t    @vPROC_ERRO,\r\n",
                "     \t\t    @vLINHA_ERRO ,\r\n",
                "        \t\t@vMSG_ERRO ,\r\n",
                "        \t\t'ERRO',\r\n",
                "        \t\t@VPROCESSO,\r\n",
                "\t\t        @VDATA_INI,\r\n",
                "                @vDATA_FIM,\r\n",
                "\t\t        @vLINHAS_AFTADAS,\r\n",
                "\t\t        @vACAO,\r\n",
                "\t\t        @vDESTINO;\r\n",
                "        \r\n",
                "END CATCH;  "
            ],
            "metadata": {
                "azdata_cell_guid": "d77f6e50-6f6c-4dd5-b5c9-ffe20cd1fc96"
            },
            "outputs": [
                {
                    "output_type": "display_data",
                    "data": {
                        "text/html": "Commands completed successfully."
                    },
                    "metadata": {}
                },
                {
                    "output_type": "display_data",
                    "data": {
                        "text/html": "(5783109 rows affected)"
                    },
                    "metadata": {}
                },
                {
                    "output_type": "display_data",
                    "data": {
                        "text/html": "(1 row affected)"
                    },
                    "metadata": {}
                },
                {
                    "output_type": "display_data",
                    "data": {
                        "text/html": "Total execution time: 00:01:08.930"
                    },
                    "metadata": {}
                }
            ],
            "execution_count": 15
        }
    ]
}